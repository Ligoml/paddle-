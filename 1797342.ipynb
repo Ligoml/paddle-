{
 "cells": [
  {
   "cell_type": "code",
   "execution_count": 1,
   "metadata": {
    "collapsed": false
   },
   "outputs": [
    {
     "name": "stdout",
     "output_type": "stream",
     "text": [
      "data16287\r\n"
     ]
    }
   ],
   "source": [
    "# 查看当前挂载的数据集目录, 该目录下的变更重启环境后会自动还原\n",
    "# View dataset directory. \n",
    "# This directory will be recovered automatically after resetting environment. \n",
    "!ls /home/aistudio/data"
   ]
  },
  {
   "cell_type": "code",
   "execution_count": 2,
   "metadata": {
    "collapsed": false
   },
   "outputs": [],
   "source": [
    "# 查看工作区文件, 该目录下的变更将会持久保存. 请及时清理不必要的文件, 避免加载过慢.\n",
    "# View personal work directory. \n",
    "# All changes under this directory will be kept even after reset. \n",
    "# Please clean unnecessary files in time to speed up environment loading. \n",
    "!ls /home/aistudio/work"
   ]
  },
  {
   "cell_type": "code",
   "execution_count": 3,
   "metadata": {
    "collapsed": false
   },
   "outputs": [
    {
     "name": "stdout",
     "output_type": "stream",
     "text": [
      "Looking in indexes: https://mirror.baidu.com/pypi/simple/\n",
      "Collecting beautifulsoup4\n",
      "\u001b[?25l  Downloading https://mirror.baidu.com/pypi/packages/d1/41/e6495bd7d3781cee623ce23ea6ac73282a373088fcd0ddc809a047b18eae/beautifulsoup4-4.9.3-py3-none-any.whl (115kB)\n",
      "\u001b[K     |████████████████████████████████| 122kB 14.4MB/s eta 0:00:01\n",
      "\u001b[?25hCollecting soupsieve>1.2; python_version >= \"3.0\" (from beautifulsoup4)\n",
      "  Downloading https://mirror.baidu.com/pypi/packages/36/69/d82d04022f02733bf9a72bc3b96332d360c0c5307096d76f6bb7489f7e57/soupsieve-2.2.1-py3-none-any.whl\n",
      "Installing collected packages: soupsieve, beautifulsoup4\n",
      "Successfully installed beautifulsoup4-4.9.3 soupsieve-2.2.1\n"
     ]
    }
   ],
   "source": [
    "# 如果需要进行持久化安装, 需要使用持久化路径, 如下方代码示例:\n",
    "# If a persistence installation is required, \n",
    "# you need to use the persistence path as the following: \n",
    "!mkdir /home/aistudio/external-libraries\n",
    "!pip install beautifulsoup4 -t /home/aistudio/external-libraries"
   ]
  },
  {
   "cell_type": "code",
   "execution_count": 4,
   "metadata": {
    "collapsed": false
   },
   "outputs": [],
   "source": [
    "# 同时添加如下代码, 这样每次环境(kernel)启动的时候只要运行下方代码即可: \n",
    "# Also add the following code, \n",
    "# so that every time the environment (kernel) starts, \n",
    "# just run the following code: \n",
    "import sys \n",
    "sys.path.append('/home/aistudio/external-libraries')"
   ]
  },
  {
   "cell_type": "code",
   "execution_count": 1,
   "metadata": {
    "collapsed": false
   },
   "outputs": [
    {
     "name": "stderr",
     "output_type": "stream",
     "text": [
      "/opt/conda/envs/python35-paddle120-env/lib/python3.7/site-packages/matplotlib/__init__.py:107: DeprecationWarning: Using or importing the ABCs from 'collections' instead of from 'collections.abc' is deprecated, and in 3.8 it will stop working\n",
      "  from collections import MutableMapping\n",
      "/opt/conda/envs/python35-paddle120-env/lib/python3.7/site-packages/matplotlib/rcsetup.py:20: DeprecationWarning: Using or importing the ABCs from 'collections' instead of from 'collections.abc' is deprecated, and in 3.8 it will stop working\n",
      "  from collections import Iterable, Mapping\n",
      "/opt/conda/envs/python35-paddle120-env/lib/python3.7/site-packages/matplotlib/colors.py:53: DeprecationWarning: Using or importing the ABCs from 'collections' instead of from 'collections.abc' is deprecated, and in 3.8 it will stop working\n",
      "  from collections import Sized\n"
     ]
    },
    {
     "name": "stdout",
     "output_type": "stream",
     "text": [
      "2.0.1\n",
      "2.0.4\n"
     ]
    }
   ],
   "source": [
    "# 打印paddle与paddlehub版本\r\n",
    "import paddle\r\n",
    "import paddlehub as hub\r\n",
    "print(paddle.__version__)\r\n",
    "print(hub.__version__)"
   ]
  },
  {
   "cell_type": "code",
   "execution_count": 2,
   "metadata": {
    "collapsed": false
   },
   "outputs": [
    {
     "name": "stdout",
     "output_type": "stream",
     "text": [
      "直击特里勾手助小牛反超神鸟发威火箭仍处劣势　　新浪体育讯　北京时间4月16日消息，火箭今天迎来常规赛的收官战。客场挑战达拉斯小牛的比赛将关系到火箭队最终的排名，目前西部的竞争仍然非常激励。尤其是西部第二到第七的六支球队将在今天展开捉对厮杀的情况下，黄蜂、小牛、开拓者以及马刺都有可能是火箭队的下一个对手。以下为本场比赛的精彩瞬间——　　第四节比赛还剩下8分多钟，姚明重新回到场上，但是小牛队的霍里随后在右翼接队友传球后上演一记三分跳投，虽然身体动作已经变形，但是他仍然将球命中，随后基德在弧顶处的一记三分跳投帮助小牛终于将比分反超，火箭在进攻中直接打不开局面，而小牛更是利用特里空切后的一记勾手将比分反超至4分，包括库班在内的所有小牛现场球迷都站起来振臂高呼，而此时阿德尔曼还在场边低头深沉的思索中。　　比赛还剩下最后5分多钟，洛瑞带球突破中被小牛队员犯规，洛瑞来不及刹车让自己直接撞到了观众席上，右腿疼痛难忍的他脸都几乎变形，结果他两罚两中，火箭队还落后两分。随后，洛瑞将球直接传给此时已经回到场上的阿泰，野兽此时将球稳下，并没有急于进攻，随后他顺势将球塞给兰德里，神鸟利用对方站位空隙直接杀到篮下，上篮成功，火箭将比分终于追至80平。场上局面对于火箭来说绝对是不容有失。　　(sabrina)\t体育\n",
      "\n",
      "北京网购年消费额112亿元　　商报讯(记者吴文治)昨日，淘宝网发布的《2009-2010年度中国网购热门城市报告》显示，北京年度网购消费力达112.5亿元，与上海相差近62亿元，位列十大热门消费力城市第二位。此外，男性网购的消费金额高出女性，与“女性是网购主力军”的传统观念不符。　　淘宝公布的报告显示，中国网购消费力十大城市分别是上海、北京、深圳、杭州、广州、南京、苏州、天津、温州和宁波。主要集中在以江浙沪为主的长三角地区、以广深为主的珠三角地区和以北京为主的京津地区。北京年度网购112.5亿元的消费额，占国内城市网购消费额的5.6%。　　中国网购消费力十大城市的消费金额性别来源比例中，男性占比超过了女性。前者占比达到53.5%，后者则为46.5%。不过，在成交人数、成交笔数等关键数据上显示，女性消费者均高于男性。此外，在十大网购热门城市中，25岁-34岁的群体成为网购消费的主力军，占比达到62.49%。\t科技\n",
      "\n",
      "世界首辆飞行汽车成功试飞(附图)　　新快报讯据美国《时代杂志》等媒体19日报道，世界首辆飞行汽车本月初在美国实现了首飞，降落后只需按一个按钮就可将机翼折叠，驶上高速公路。　　据报道，美国特拉弗吉亚公司研发的这辆名为“特拉弗吉亚过渡”的飞行汽车的空中巡航时速可达185公里，它还可以在道路上行驶，可以安全地存放在车库里。公司称，汽车可以用一箱汽油在空中飞行643公里。与此同时，飞行汽车加油时只需驶入最近的加油站，向油箱里加入无铅汽油即可。人们先前也曾验证过其它飞行汽车，但特拉弗吉亚公司研发的飞行汽车是第一辆拥有可折叠机翼的、并能无缝隙地实现从空中降落到公路的汽车。不过，这辆车的门槛还有点高，车的价格达13.9万英镑（约合135万元人民币）。\t社会\n",
      "\n",
      "人际测试：你的人际磁场强大吗(图)　　独家撰稿：大智若笨　心理测试征稿启事　　如何在草木皆兵的office里脱颖而出，最好的办法不是到处抱怨也不是埋头工作，而是要加强自己的磁场，让周围的人都被你所感染，如此有影响力，你难道还怕自己不能夺人眼球吗。　　独家撰稿：大智若笨　心理测试征稿启事　　如何在草木皆兵的office里脱颖而出，最好的办法不是到处抱怨也不是埋头工作，而是要加强自己的磁场，让周围的人都被你所感染，如此有影响力，你难道还怕自己不能夺人眼球吗。\t星座\n",
      "\n",
      "趣味测试：你怎么红红火火过春节(图)　　独家撰稿：岚　心理测试征稿启事 欢迎关注新浪星座微博　　红红火火过大年啦，每年的此时你都会如何度过呢？是跟家人爱人在一起还是跟朋友兄弟外出欢聚呢？亦或背起行囊远离嘈杂，无论如何，总会有一种适合你的方式，赶紧来测测看吧！　　(本测试仅供娱乐，非专业心理指导。)\t星座\n",
      "\n",
      "事业测试：你工作易受他人干扰吗(图)　　独家撰稿：苑椿　心理测试征稿启事 欢迎关注新浪星座微博　　办公室永远是个龙蛇混杂、藏龙卧虎的地方，你永远不知道一张张面具底下会是怎样的脸庞，你是否还傻傻的对别人的话听之任之，完全搞乱了自己工作的步调？还是笃定的坚守阵地，从未被谣言动摇分毫？赶紧来测测看吧！　　(本测试仅供娱乐，非专业心理指导。)\t星座\n",
      "\n"
     ]
    }
   ],
   "source": [
    "#展示验证集valid前三个和后三个样本内容\r\n",
    "valid_file = '/home/aistudio/thu_news/valid.txt'\r\n",
    "with open(valid_file, 'r') as f:\r\n",
    "    rows = f.readlines()\r\n",
    "print(rows[1])\r\n",
    "print(rows[2])\r\n",
    "print(rows[3])\r\n",
    "print(rows[-1])\r\n",
    "print(rows[-2])\r\n",
    "print(rows[-3])"
   ]
  },
  {
   "cell_type": "code",
   "execution_count": 3,
   "metadata": {
    "collapsed": false
   },
   "outputs": [
    {
     "name": "stderr",
     "output_type": "stream",
     "text": [
      "2021-04-15 13:48:53,790 - INFO - Lock 140645098047632 acquired on /home/aistudio/.paddlehub/tmp/ernie\n",
      "[INFO 2021-04-15 13:48:53,790 filelock.py:274] Lock 140645098047632 acquired on /home/aistudio/.paddlehub/tmp/ernie\n"
     ]
    },
    {
     "name": "stdout",
     "output_type": "stream",
     "text": [
      "Download https://bj.bcebos.com/paddlehub/paddlehub_dev/ernie_2.0.2.tar.gz\n",
      "[##################################################] 100.00%\n",
      "Decompress /home/aistudio/.paddlehub/tmp/tmp2h6fr2_h/ernie_2.0.2.tar.gz\n",
      "[##################################################] 100.00%\n"
     ]
    },
    {
     "name": "stderr",
     "output_type": "stream",
     "text": [
      "[2021-04-15 13:48:54,424] [    INFO] - Successfully installed ernie-2.0.2\n",
      "2021-04-15 13:48:54,428 - INFO - Lock 140645098047632 released on /home/aistudio/.paddlehub/tmp/ernie\n",
      "[INFO 2021-04-15 13:48:54,428 filelock.py:318] Lock 140645098047632 released on /home/aistudio/.paddlehub/tmp/ernie\n",
      "[2021-04-15 13:48:54,431] [    INFO] - Downloading https://paddlenlp.bj.bcebos.com/models/transformers/ernie/ernie_v1_chn_base.pdparams and saved to /home/aistudio/.paddlenlp/models/ernie-1.0\n",
      "[2021-04-15 13:48:54,434] [    INFO] - Downloading ernie_v1_chn_base.pdparams from https://paddlenlp.bj.bcebos.com/models/transformers/ernie/ernie_v1_chn_base.pdparams\n",
      "100%|██████████| 390123/390123 [00:07<00:00, 53793.00it/s]\n",
      "/opt/conda/envs/python35-paddle120-env/lib/python3.7/site-packages/paddle/fluid/dygraph/layers.py:1303: UserWarning: Skip loading for classifier.weight. classifier.weight is not found in the provided dict.\n",
      "  warnings.warn((\"Skip loading for {}. \".format(key) + str(err)))\n",
      "/opt/conda/envs/python35-paddle120-env/lib/python3.7/site-packages/paddle/fluid/dygraph/layers.py:1303: UserWarning: Skip loading for classifier.bias. classifier.bias is not found in the provided dict.\n",
      "  warnings.warn((\"Skip loading for {}. \".format(key) + str(err)))\n",
      "[2021-04-15 13:49:07,653] [    INFO] - Downloading vocab.txt from https://paddlenlp.bj.bcebos.com/models/transformers/ernie/vocab.txt\n",
      "100%|██████████| 89/89 [00:00<00:00, 2905.86it/s]\n",
      "[2021-04-15 13:51:02,297] [    INFO] - Found /home/aistudio/.paddlenlp/models/ernie-1.0/vocab.txt\n",
      "[2021-04-15 13:51:18,076] [    INFO] - Found /home/aistudio/.paddlenlp/models/ernie-1.0/vocab.txt\n"
     ]
    },
    {
     "name": "stdout",
     "output_type": "stream",
     "text": [
      "text=主旋律在突破中赢得掌声江青正面形象亮相荧屏　　新中国成立60周年之际，银幕、荧屏、舞台上，各种献礼作品精彩纷呈。这些以历史为依据的艺术作品，或者人性化地展现伟人的性格，或者客观地诠释有争议性的人物，或者不回避历史，较以往艺术创作都有很大突破，而观众也看得非常过瘾。　　文/记者周娴、莫斯其格、张素芹　　很客观《解放》还原“争议”人物　　电视剧《解放》追求全景式展现历史，真实还原人物的宗旨，对很多颇受争议的历史人物做了客观的展现，江青首次以青春美好的正面形象出现在荧屏上。同时，该剧用大量篇幅表现了国民党中一些能征善战的将领，客观描绘了他们的性格特征，展现了他们作为军人的英勇与悲壮。相对于此类作品以往的“脸谱化”表现而言，这是一个突破。　　首次看到江青的正面形象　　在《解放》中，江青30多年来首次以正面形象出现在荧屏上，刚刚踏入解放战争洪流的江青，活泼开朗的性格被重点放大。对丈夫的崇拜和深情，照顾病中周恩来的细心周到，这些情节，都将少女江青的情怀刻画得淋漓尽致。剧情进入到中段，她与毛泽东及女儿的温馨生活场面则成为惨烈战争的调和剂。　　网友意见：《解放》里江青有大量的戏，她看上很纯很天真，这可是第一次啊。只有这样才能显得作品真实可信，应该客观公正地评价每一个人。　　主创回应：导演唐国强说，《解放》是站在唯物主义的历史观上，在特定的革命阶段，展现人物固有性格特征，还原人物的本来面貌。　　林彪与将士高唱军歌　　林彪是一代军事家，十大元帅中最年轻的元帅。10年前《大决战》中，首度出现林彪的正面形象，运筹帷幄，决胜千里。《解放》中，又让观众看到了林彪与将士们一起高唱“向前向前向前，我们的队伍向太阳”的景象，看到了一个更加不一样的林彪。　　网友意见：解放战争林彪功不可没，电视剧应该好好表现他。“千秋功罪，自有后人评说”。《解放》对林彪有了比较客观的评价，演员的诠释也相当出色，完全表现出一个具有卓越军事才能、个性孤僻又服从大局的军事家的感觉。　　主创回应：林彪的饰演者由立平说，为了接近林彪的身材，本来体重就不足130斤的我还是咬牙减去了10斤。保持在这个体重我心里才踏实，不光形体像了，而且通过减肥，似乎更能感受到他当时的内心压力。我对军事家有着独特的情感，我的这份情感不单单是向一个人，而是向整个老一辈军事家——致敬！　　国民党将领的铁骨柔情　　剧情进入中段后，《解放》将大量笔墨放在了描写战争中的传奇将领上。张灵甫形象英俊，气质儒雅，是国民党陆军中将、抗日名将，蒋介石对其厚爱有加。他死于国共内战时期的孟良崮战役，孟良崮战役中，对张灵甫采用了正面而又全面的描述，突出了他高傲忠诚的性格，也表现了下属对他的爱戴。　　“干城之将”陈明仁是另一个被正面渲染的国民党将领。“四平之战”中，陈明仁的坚毅、英勇与调兵遣将的能力得到了最好的展现，性格刚烈，悲情又悲壮。　　网友意见：《解放》胜在细节，陈明仁剃发明志和拼死一搏之前留下遗书的段落，已超越了国共战争的敌我界限，成为一个中国军人铁骨柔情的最佳诠释。　　主创回应：唐国强说：“越是客观，便越能感受到伟大。《解放》更注重还原历史，它甚至比《建国大业》更写实，我相信这是最能打动观众的。”　　人性化《建国大业》鲜活伟人　　在以往讲述领袖的影视作品中，领袖形象都会被塑造得笑容可掬、和蔼可亲，但在影片《建国大业》中毛泽东烟不离手，周恩来发起了脾气，几个领袖在一起醉酒唱歌，这些细节完全摆脱了以往主旋律作品中领袖人物概念化的形象，从细节还原了一个个有七情六欲人性化的领袖形象。　　场景一：怒发冲冠　　得知冯玉祥在海上遇难后，毛泽东气得踢翻了水盆，周恩来更大骂手下“都是猪脑袋”，“你们谁能负这个责”，不仅摔了文件夹，还摔了茶杯，连衣服都迸开了。　　网友意见：这是《建国大业》中对周恩来的刻画最有力的一笔，“以前对总理的印象总停留在‘温文尔雅’四个字上，原来总理也跟普通人一样是有脾气的。”“主席突然踢翻了洗脚盆，哐的一声，吓我一跳。但想想，又很符合逻辑。”　　主创说法：周恩来的扮演者刘劲说：“领袖也有喜怒哀乐，导演告诉我，放开演，要表现得怒发冲冠，这就突破了领袖人物顾全大局、和蔼可亲的固有形象，使人物显得更加真实可信。　　场景二：醉酒当歌　　接到淮海战役胜利捷报的当晚，中央四位领导人喝酒庆祝，周恩来揽着朱德、刘少奇高唱《国际歌》，喝醉了的毛泽东歪倒在一旁咧嘴直笑，这样“奔放”的中共领袖在以前的主旋律影片中绝无仅有。　　网友意见：影片的这一段拍得相当感人，不少网友留言称被这个场景感动落泪，“我觉得这是影片最叫人难忘的一幕，我一大老爷们也跟着唱起来了，同时眼眶也湿润了……”“从这一段中能体会领导人的真性情，给人一种亲近感。”　　主创回应：在以往的主旋律电影里没有出现过这种有“丑化”领导人嫌疑的镜头。黄建新解释说，这一段的确是艺术发挥，经过剧组讨论，觉得这样更能显示出领导人在“天下初定”时的那种畅快和浪漫的革命情感，而这一段落在审查时，同样没有收到任何修改建议。　　场景三：“有气无力”喊口号　　《建国大业》中最令人觉得意外的地方，莫过于结尾时毛主席在政协会议上发言，结束时所喊的口号“中华人民共和国万岁”、“联合政府万岁”等。按照以往主旋律电影的处理方式，这种口号无疑要喊得一个比一个响亮，但唐国强扮演的毛泽东，在这里的处理却是一个比一个声音弱，显得有些“有气无力”。　　网友意见：以往的主旋律影片中，主席都是慷慨激昂地喊口号，振奋人心，想不通《建国大业》为什么要这样处理。　　主创回应：导演黄建新解释说，这是唐国强自己提出来的，因为他们在研究了历史上毛主席的演讲录音，发现当年毛主席就是这样的口气，“其实最重要的不是语气，而是毛主席演讲完毕之后，慢慢抬头环顾现场。以往他演讲都是对党内人士，这一次是真正面对全中国在政治方面最有影响力的人。他最后的表情，可谓意味深长。”　　场景四：主席遭轰炸　　毛主席在河北城南庄被潜伏特务告密，蒋介石派两架飞机轰炸城南庄。毛主席当时吃了安眠药刚睡下，警卫员一起抬着担架转移身穿睡衣的主席，最终化险为夷。　　网友意见：这一段惊险、紧张，意外的是主席“临危不乱”的时候居然身穿睡衣！　　主创回应：导演黄建新解释：“这次突破地方就是想让镜头深入到这些历史人物的内心，希望带来新鲜感。”　　不回避　　《复兴之路》用4分钟讲述“文革”　　大型音乐舞蹈史诗《复兴之路》，是继《东方红》、《中国革命之歌》之后，中国文化艺术史上的又一部大型音乐舞蹈史诗。在两个半小时的演出中，八一电影制片厂副厂长刘星创作的朗诵诗《沉思与抉择》用诗歌朗诵的方式讲述了“文革”的十年历史，时间长约4分钟，这也是第一次在中国庆典舞台上涉及“文革”话题。　　场景：首次涉及“文革”　　“如果不是为寻找历史是在哪里转弯，如果不是为寻找民族复兴新的起点，谁还愿意揭开往日的伤口，谁还想回首那曾经的劫难……”在这首诗中，没有出现“文革”的字眼，但是，隐喻、象征的手法，使得交代明确、措辞得体。结尾的处理更是“神来之笔”———原本雷声滚滚、乌云遮空的天空明朗起来，“人们听到中国共产党人的浩然之声，又一次在大地和天空间回旋。”　　网友意见：　　《复兴之路》“结合历史，紧跟时代，用音乐、舞蹈、朗诵、合唱等表演形式，用两个半小时的时间，浓缩了169年的中国历史。这是一次心灵的洗礼，激起了人们的情感共鸣。是最为完美的精彩演出。”　　主创回应：　　对于“文革”等历史细节的出现，文化部部长蔡武接受媒体采访时表示，《复兴之路》涉及这段历史是“因为如果没有对‘文化大革命’这一段的一个交代、一个表现，那么人们就会问，那么三中全会的意义在什么地方，为什么它是一个历史的转折，为什么它提出了改革开放的政策，它的针对性是什么，就是要讲清楚这个问题所以必须要讲到‘文化大革命’，所以我们不回避这个问题，但是我们又不去渲染它”。　　诗作者刘星严格遵循“不回避，不渲染”的创作原则，但用何种方式展开叙述，让他冥思苦想了几个月，直到想到了古典诗词中“比兴”的艺术手法。他接受采访的时候表示：“这二十几行诗，我改了二十多遍。阎肃老师也帮助我一起改写，经常为一两个字绞尽脑汁。我们共同把这个任务完成好”。　　《复兴之路》的总导演张继刚在接受采访的时候表示，对历史上的事情的态度应该是不回避也不渲染，而也正是因为这段历史、一系列的曲折，“让我们更珍惜此时此刻——中国历史上最好的时期”。　　诗歌朗诵的表演者瞿弦和接受采访的时候称，他们这代人都经历了“文革”，在“文革”中有着不同的遭遇，在每个人一生中都留下了不可磨灭的记忆，所以作为表演者要“用自己的体会来感悟，来体现我们多么珍惜这个转折”。\tlabel=娱乐\n",
      "text=骑士总经理位置恐难保布朗下课后首发声明谢球队　　新浪体育讯　北京时间5月27日消息，自从被骑士解雇后，迈克-布朗还未在公开场合发表过任何言论。但当地时间周三，布朗委托骑士对外发表了一份声明，并在声明中感谢克利夫兰给了他这次执教NBA球队的经历。在文章的最后，布朗甚至还动情的表示，过去在骑士队中的5年，对于他来说有着“特殊的经历”。　　布朗在声明中写道：“我为在克利夫兰拥有5年的执教经历感到骄傲。很荣幸能与这么多尊重我的球员和员工共事，我很享受和他们在一起奋斗的时光。同时，我还要感谢球队老板丹-吉尔伯特对我的奉献和鼎力支持。虽然直到我告别这支球队时，我仍然没有为这座城市带来他们想要的东西，但我仍然对在这里的执教成绩感到满意和自豪。”　　在过去的两个赛季中，布朗率领的骑士共赢得了127场常规赛的胜利。而布朗本人也曾经在2009年凭借优异的率队成绩，荣膺NBA联盟最佳教练员称号。而布朗带领骑士所取得的最好成绩，当属2007年闯入最终的总决赛。　　在被骑士解雇之后，布朗一直赋闲在家。不过也许在不久之后，布朗就将迎来下一份主教练的工作。因为在目前联盟的30支球队中，仍然有5支球队在为新赛季主教练的人选发愁，而布朗也极有可能成为这5支球队选帅的潜在目标。　　而据《克利夫兰平原经销商》报道，解雇布朗之后，并不意味着骑士内部的人员调整就此告一段落，反之随着布朗的下课，球队总经理丹尼-费里的前景也变得扑朔迷离。而一旦费里离开，那球队总经理的职位，就将由骑士助理教练克里斯-格兰特接替。　　费里的合同6月30日就将到期，不过从解雇布朗的举动来看，费里也极有可能选择继续留守克利夫兰。而一旦费里最终留任，那毫无疑问，骑士最重要的事情就是尽可能地留下“小皇帝”勒布朗-詹姆斯。　　(小林)\tlabel=体育\n",
      "text=国足11月西亚行会中超老友鲁能新援鸿门宴意欲何为　　记者张远济南报道由于在亚洲杯预赛上，中国和黎巴嫩同在D组，11月14日和22日，中国队将先客后主迎战黎巴嫩。小组赛前两场黎巴嫩一分未得，出线希望渺茫，对此安塔尔并不太在意，他更关注鲁能的队友谁有可能进入国家队，“在我看来，至少有4名队员可以进入国家队，如果他们到时候能到叙利亚比赛，对我来说那别提是一件多么开心的事情了，到时候我会邀请他们品尝叙利亚的美味，也许会请他们到我家做客，我很乐意在厨房里露上一手。”　　安塔尔的哥哥菲塞尔也是一名职业球员，“他在黎巴嫩国家队打左边后卫，到比赛时他也会来，我和哥哥一起代表黎巴嫩，鲁能的队友代表中国，这一定很有趣。”安塔尔这样说并不意味着他放弃了亚洲杯出线的希望，“我们前两场比赛都输了，形势不妙，但我们不会轻易放弃，对中国队的比赛一定会全力以赴。”　　安塔尔说，他最希望黎巴嫩和中国队携手出线，但这实现的可能性几乎为零。“但不管怎么说，过去的8年时间里，我为我的国家付出了努力，我打进了28个进球，我认为自己的成就非常值得骄傲，将来在鲁能，我也期待能够用自己的努力为球队带来荣誉。”\tlabel=体育\n"
     ]
    }
   ],
   "source": [
    "#数据集载入\n",
    "import paddlehub as hub\n",
    "import paddle\n",
    "import os, io, csv\n",
    "from paddlehub.datasets.base_nlp_dataset import InputExample, TextClassificationDataset\n",
    "\n",
    "model = hub.Module(name=\"ernie\", task='seq-cls', num_classes=14) \n",
    "\n",
    "DATA_DIR=\"/home/aistudio/thu_news\"\n",
    "class ThuNews(TextClassificationDataset):\n",
    "    def __init__(self, tokenizer, mode='train', max_seq_len=128):\n",
    "        if mode == 'train':\n",
    "            data_file = 'train.txt'\n",
    "        elif mode == 'test':\n",
    "            data_file = 'test.txt'\n",
    "        else:\n",
    "            data_file = 'valid.txt'\n",
    "        super(ThuNews, self).__init__(\n",
    "            base_path=DATA_DIR,\n",
    "            data_file=data_file,\n",
    "            tokenizer=tokenizer,\n",
    "            max_seq_len=max_seq_len,\n",
    "            mode=mode,\n",
    "            is_file_with_header=True,\n",
    "            label_list=['体育', '科技', '社会', '娱乐', '股票', '房产', '教育', '时政', '财经', '星座', '游戏', '家居', '彩票', '时尚'])\n",
    "\n",
    "    # 解析文本文件里的样本\n",
    "    def _read_file(self, input_file, is_file_with_header: bool = False):\n",
    "        if not os.path.exists(input_file):\n",
    "            raise RuntimeError(\"The file {} is not found.\".format(input_file))\n",
    "        else:\n",
    "            with io.open(input_file, \"r\", encoding=\"UTF-8\") as f:\n",
    "                reader = csv.reader(f, delimiter=\"\\t\", quotechar=None)\n",
    "                examples = []\n",
    "                seq_id = 0\n",
    "                header = next(reader) if is_file_with_header else None\n",
    "                for line in reader:\n",
    "                    example = InputExample(guid=seq_id, text_a=line[0], label=line[1])\n",
    "                    seq_id += 1\n",
    "                    examples.append(example)\n",
    "                return examples\n",
    "\n",
    "train_dataset = ThuNews(model.get_tokenizer(), mode='train', max_seq_len=128)\n",
    "dev_dataset = ThuNews(model.get_tokenizer(), mode='dev', max_seq_len=128)\n",
    "test_dataset = ThuNews(model.get_tokenizer(), mode='test', max_seq_len=128)\n",
    "#打印测试集train.txt的前三个样本内容\n",
    "for e in train_dataset.examples[:3]:\n",
    "    print(e)"
   ]
  },
  {
   "cell_type": "code",
   "execution_count": 5,
   "metadata": {
    "collapsed": false
   },
   "outputs": [
    {
     "name": "stderr",
     "output_type": "stream",
     "text": [
      "[2021-04-15 13:52:47,399] [ WARNING] - PaddleHub model checkpoint not found, start from scratch...\n",
      "[2021-04-15 13:52:49,828] [   TRAIN] - Epoch=1/3, Step=10/282 loss=2.3300 acc=0.2656 lr=0.000050 step/sec=4.12 | ETA 00:03:25\n",
      "[2021-04-15 13:52:51,972] [   TRAIN] - Epoch=1/3, Step=20/282 loss=1.5373 acc=0.6375 lr=0.000050 step/sec=4.66 | ETA 00:03:13\n",
      "[2021-04-15 13:52:54,122] [   TRAIN] - Epoch=1/3, Step=30/282 loss=1.1196 acc=0.7344 lr=0.000050 step/sec=4.65 | ETA 00:03:09\n",
      "[2021-04-15 13:52:56,286] [   TRAIN] - Epoch=1/3, Step=40/282 loss=0.7733 acc=0.8125 lr=0.000050 step/sec=4.62 | ETA 00:03:07\n",
      "[2021-04-15 13:52:58,447] [   TRAIN] - Epoch=1/3, Step=50/282 loss=0.6144 acc=0.8500 lr=0.000050 step/sec=4.63 | ETA 00:03:06\n",
      "[2021-04-15 13:53:00,627] [   TRAIN] - Epoch=1/3, Step=60/282 loss=0.6487 acc=0.8344 lr=0.000050 step/sec=4.59 | ETA 00:03:06\n",
      "[2021-04-15 13:53:02,791] [   TRAIN] - Epoch=1/3, Step=70/282 loss=0.5021 acc=0.8625 lr=0.000050 step/sec=4.62 | ETA 00:03:05\n",
      "[2021-04-15 13:53:04,952] [   TRAIN] - Epoch=1/3, Step=80/282 loss=0.4956 acc=0.8656 lr=0.000050 step/sec=4.63 | ETA 00:03:05\n",
      "[2021-04-15 13:53:07,116] [   TRAIN] - Epoch=1/3, Step=90/282 loss=0.3169 acc=0.9250 lr=0.000050 step/sec=4.62 | ETA 00:03:05\n",
      "[2021-04-15 13:53:09,288] [   TRAIN] - Epoch=1/3, Step=100/282 loss=0.3660 acc=0.9156 lr=0.000050 step/sec=4.60 | ETA 00:03:05\n",
      "[2021-04-15 13:53:11,469] [   TRAIN] - Epoch=1/3, Step=110/282 loss=0.3446 acc=0.9219 lr=0.000050 step/sec=4.59 | ETA 00:03:05\n",
      "[2021-04-15 13:53:13,640] [   TRAIN] - Epoch=1/3, Step=120/282 loss=0.3944 acc=0.9125 lr=0.000050 step/sec=4.61 | ETA 00:03:04\n",
      "[2021-04-15 13:53:15,809] [   TRAIN] - Epoch=1/3, Step=130/282 loss=0.3002 acc=0.9281 lr=0.000050 step/sec=4.61 | ETA 00:03:04\n",
      "[2021-04-15 13:53:17,980] [   TRAIN] - Epoch=1/3, Step=140/282 loss=0.1912 acc=0.9469 lr=0.000050 step/sec=4.61 | ETA 00:03:04\n",
      "[2021-04-15 13:53:20,160] [   TRAIN] - Epoch=1/3, Step=150/282 loss=0.2795 acc=0.9219 lr=0.000050 step/sec=4.59 | ETA 00:03:04\n",
      "[2021-04-15 13:53:22,334] [   TRAIN] - Epoch=1/3, Step=160/282 loss=0.3226 acc=0.9219 lr=0.000050 step/sec=4.60 | ETA 00:03:04\n",
      "[2021-04-15 13:53:24,514] [   TRAIN] - Epoch=1/3, Step=170/282 loss=0.3052 acc=0.9156 lr=0.000050 step/sec=4.59 | ETA 00:03:04\n",
      "[2021-04-15 13:53:26,699] [   TRAIN] - Epoch=1/3, Step=180/282 loss=0.2327 acc=0.9469 lr=0.000050 step/sec=4.58 | ETA 00:03:04\n",
      "[2021-04-15 13:53:28,882] [   TRAIN] - Epoch=1/3, Step=190/282 loss=0.3163 acc=0.9250 lr=0.000050 step/sec=4.58 | ETA 00:03:04\n",
      "[2021-04-15 13:53:31,055] [   TRAIN] - Epoch=1/3, Step=200/282 loss=0.2541 acc=0.9250 lr=0.000050 step/sec=4.60 | ETA 00:03:04\n",
      "[2021-04-15 13:53:33,234] [   TRAIN] - Epoch=1/3, Step=210/282 loss=0.3466 acc=0.9187 lr=0.000050 step/sec=4.59 | ETA 00:03:04\n",
      "[2021-04-15 13:53:35,426] [   TRAIN] - Epoch=1/3, Step=220/282 loss=0.2777 acc=0.9094 lr=0.000050 step/sec=4.56 | ETA 00:03:04\n",
      "[2021-04-15 13:53:37,617] [   TRAIN] - Epoch=1/3, Step=230/282 loss=0.3183 acc=0.9125 lr=0.000050 step/sec=4.56 | ETA 00:03:04\n",
      "[2021-04-15 13:53:39,799] [   TRAIN] - Epoch=1/3, Step=240/282 loss=0.2864 acc=0.9281 lr=0.000050 step/sec=4.58 | ETA 00:03:04\n",
      "[2021-04-15 13:53:41,993] [   TRAIN] - Epoch=1/3, Step=250/282 loss=0.3647 acc=0.8844 lr=0.000050 step/sec=4.56 | ETA 00:03:04\n",
      "[2021-04-15 13:53:44,171] [   TRAIN] - Epoch=1/3, Step=260/282 loss=0.2224 acc=0.9344 lr=0.000050 step/sec=4.59 | ETA 00:03:04\n",
      "[2021-04-15 13:53:46,366] [   TRAIN] - Epoch=1/3, Step=270/282 loss=0.2435 acc=0.9313 lr=0.000050 step/sec=4.56 | ETA 00:03:04\n",
      "[2021-04-15 13:53:48,538] [   TRAIN] - Epoch=1/3, Step=280/282 loss=0.2743 acc=0.9219 lr=0.000050 step/sec=4.60 | ETA 00:03:04\n",
      "[2021-04-15 13:53:52,485] [    EVAL] - Evaluation on validation dataset: \\ - Evaluation on validation dataset: | - Evaluation on validation dataset: / - Evaluation on validation dataset: - - Evaluation on validation dataset: \\ - Evaluation on validation dataset: | - Evaluation on validation dataset: / - Evaluation on validation dataset: - - Evaluation on validation dataset: \\ - Evaluation on validation dataset: | - Evaluation on validation dataset: / - Evaluation on validation dataset: - - Evaluation on validation dataset: \\ - Evaluation on validation dataset: | - Evaluation on validation dataset: / - Evaluation on validation dataset: - - Evaluation on validation dataset: \\ - Evaluation on validation dataset: | - Evaluation on validation dataset: / - Evaluation on validation dataset: - - Evaluation on validation dataset: \\ - Evaluation on validation dataset: | - Evaluation on validation dataset: / - Evaluation on validation dataset: - - Evaluation on validation dataset: \\ - Evaluation on validation dataset: | - Evaluation on validation dataset: / - Evaluation on validation dataset: - - Evaluation on validation dataset: \\ - Evaluation on validation dataset: | - Evaluation on validation dataset: / - Evaluation on validation dataset: - - Evaluation on validation dataset: \\ - Evaluation on validation dataset: | - [Evaluation result] avg_acc=0.8921\n",
      "[2021-04-15 13:54:09,763] [    EVAL] - Saving best model to ./ckpt/best_model [best acc=0.8921]\n",
      "[2021-04-15 13:54:09,771] [    INFO] - Saving model checkpoint to ./ckpt/epoch_1\n",
      "[2021-04-15 13:54:27,573] [   TRAIN] - Epoch=2/3, Step=10/282 loss=0.1707 acc=0.9531 lr=0.000050 step/sec=0.31 | ETA 00:04:50\n",
      "[2021-04-15 13:54:29,740] [   TRAIN] - Epoch=2/3, Step=20/282 loss=0.1299 acc=0.9688 lr=0.000050 step/sec=4.62 | ETA 00:04:46\n",
      "[2021-04-15 13:54:31,917] [   TRAIN] - Epoch=2/3, Step=30/282 loss=0.1653 acc=0.9531 lr=0.000050 step/sec=4.59 | ETA 00:04:43\n",
      "[2021-04-15 13:54:34,093] [   TRAIN] - Epoch=2/3, Step=40/282 loss=0.2038 acc=0.9375 lr=0.000050 step/sec=4.60 | ETA 00:04:40\n",
      "[2021-04-15 13:54:36,277] [   TRAIN] - Epoch=2/3, Step=50/282 loss=0.1513 acc=0.9563 lr=0.000050 step/sec=4.58 | ETA 00:04:37\n",
      "[2021-04-15 13:54:38,466] [   TRAIN] - Epoch=2/3, Step=60/282 loss=0.1690 acc=0.9594 lr=0.000050 step/sec=4.57 | ETA 00:04:34\n",
      "[2021-04-15 13:54:40,647] [   TRAIN] - Epoch=2/3, Step=70/282 loss=0.1479 acc=0.9625 lr=0.000050 step/sec=4.59 | ETA 00:04:32\n",
      "[2021-04-15 13:54:42,824] [   TRAIN] - Epoch=2/3, Step=80/282 loss=0.1515 acc=0.9500 lr=0.000050 step/sec=4.59 | ETA 00:04:29\n",
      "[2021-04-15 13:54:45,007] [   TRAIN] - Epoch=2/3, Step=90/282 loss=0.1462 acc=0.9625 lr=0.000050 step/sec=4.58 | ETA 00:04:27\n",
      "[2021-04-15 13:54:47,192] [   TRAIN] - Epoch=2/3, Step=100/282 loss=0.1388 acc=0.9688 lr=0.000050 step/sec=4.58 | ETA 00:04:25\n",
      "[2021-04-15 13:54:49,373] [   TRAIN] - Epoch=2/3, Step=110/282 loss=0.2136 acc=0.9313 lr=0.000050 step/sec=4.59 | ETA 00:04:23\n",
      "[2021-04-15 13:54:51,558] [   TRAIN] - Epoch=2/3, Step=120/282 loss=0.1857 acc=0.9437 lr=0.000050 step/sec=4.58 | ETA 00:04:21\n",
      "[2021-04-15 13:54:53,734] [   TRAIN] - Epoch=2/3, Step=130/282 loss=0.1281 acc=0.9594 lr=0.000050 step/sec=4.59 | ETA 00:04:19\n",
      "[2021-04-15 13:54:55,915] [   TRAIN] - Epoch=2/3, Step=140/282 loss=0.1880 acc=0.9344 lr=0.000050 step/sec=4.59 | ETA 00:04:17\n",
      "[2021-04-15 13:54:58,092] [   TRAIN] - Epoch=2/3, Step=150/282 loss=0.1776 acc=0.9594 lr=0.000050 step/sec=4.59 | ETA 00:04:15\n",
      "[2021-04-15 13:55:00,270] [   TRAIN] - Epoch=2/3, Step=160/282 loss=0.1399 acc=0.9469 lr=0.000050 step/sec=4.59 | ETA 00:04:14\n",
      "[2021-04-15 13:55:02,459] [   TRAIN] - Epoch=2/3, Step=170/282 loss=0.1318 acc=0.9656 lr=0.000050 step/sec=4.57 | ETA 00:04:12\n",
      "[2021-04-15 13:55:04,644] [   TRAIN] - Epoch=2/3, Step=180/282 loss=0.1541 acc=0.9563 lr=0.000050 step/sec=4.58 | ETA 00:04:11\n",
      "[2021-04-15 13:55:06,837] [   TRAIN] - Epoch=2/3, Step=190/282 loss=0.1473 acc=0.9563 lr=0.000050 step/sec=4.56 | ETA 00:04:09\n",
      "[2021-04-15 13:55:09,035] [   TRAIN] - Epoch=2/3, Step=200/282 loss=0.1502 acc=0.9531 lr=0.000050 step/sec=4.55 | ETA 00:04:08\n",
      "[2021-04-15 13:55:11,216] [   TRAIN] - Epoch=2/3, Step=210/282 loss=0.1468 acc=0.9500 lr=0.000050 step/sec=4.59 | ETA 00:04:07\n",
      "[2021-04-15 13:55:13,409] [   TRAIN] - Epoch=2/3, Step=220/282 loss=0.2218 acc=0.9344 lr=0.000050 step/sec=4.56 | ETA 00:04:06\n",
      "[2021-04-15 13:55:15,835] [   TRAIN] - Epoch=2/3, Step=230/282 loss=0.1719 acc=0.9531 lr=0.000050 step/sec=4.12 | ETA 00:04:05\n",
      "[2021-04-15 13:55:18,025] [   TRAIN] - Epoch=2/3, Step=240/282 loss=0.1217 acc=0.9563 lr=0.000050 step/sec=4.56 | ETA 00:04:04\n",
      "[2021-04-15 13:55:20,222] [   TRAIN] - Epoch=2/3, Step=250/282 loss=0.1308 acc=0.9625 lr=0.000050 step/sec=4.55 | ETA 00:04:03\n",
      "[2021-04-15 13:55:22,406] [   TRAIN] - Epoch=2/3, Step=260/282 loss=0.1341 acc=0.9688 lr=0.000050 step/sec=4.58 | ETA 00:04:01\n",
      "[2021-04-15 13:55:24,602] [   TRAIN] - Epoch=2/3, Step=270/282 loss=0.1520 acc=0.9500 lr=0.000050 step/sec=4.55 | ETA 00:04:00\n",
      "[2021-04-15 13:55:26,780] [   TRAIN] - Epoch=2/3, Step=280/282 loss=0.2012 acc=0.9406 lr=0.000050 step/sec=4.59 | ETA 00:03:59\n",
      "[2021-04-15 13:55:30,625] [    EVAL] - Evaluation on validation dataset: \\ - Evaluation on validation dataset: | - Evaluation on validation dataset: / - Evaluation on validation dataset: - - Evaluation on validation dataset: \\ - Evaluation on validation dataset: | - Evaluation on validation dataset: / - Evaluation on validation dataset: - - Evaluation on validation dataset: \\ - Evaluation on validation dataset: | - Evaluation on validation dataset: / - Evaluation on validation dataset: - - Evaluation on validation dataset: \\ - Evaluation on validation dataset: | - Evaluation on validation dataset: / - Evaluation on validation dataset: - - Evaluation on validation dataset: \\ - Evaluation on validation dataset: | - Evaluation on validation dataset: / - Evaluation on validation dataset: - - Evaluation on validation dataset: \\ - Evaluation on validation dataset: | - Evaluation on validation dataset: / - Evaluation on validation dataset: - - Evaluation on validation dataset: \\ - Evaluation on validation dataset: | - Evaluation on validation dataset: / - Evaluation on validation dataset: - - Evaluation on validation dataset: \\ - Evaluation on validation dataset: | - Evaluation on validation dataset: / - Evaluation on validation dataset: - - Evaluation on validation dataset: \\ - Evaluation on validation dataset: | - [Evaluation result] avg_acc=0.9236\n",
      "[2021-04-15 13:55:56,724] [    EVAL] - Saving best model to ./ckpt/best_model [best acc=0.9236]\n",
      "[2021-04-15 13:55:56,731] [    INFO] - Saving model checkpoint to ./ckpt/epoch_2\n",
      "[2021-04-15 13:56:14,250] [   TRAIN] - Epoch=3/3, Step=10/282 loss=0.1046 acc=0.9812 lr=0.000050 step/sec=0.25 | ETA 00:05:04\n",
      "[2021-04-15 13:56:16,413] [   TRAIN] - Epoch=3/3, Step=20/282 loss=0.1014 acc=0.9719 lr=0.000050 step/sec=4.62 | ETA 00:05:02\n",
      "[2021-04-15 13:56:18,596] [   TRAIN] - Epoch=3/3, Step=30/282 loss=0.0701 acc=0.9875 lr=0.000050 step/sec=4.58 | ETA 00:05:00\n",
      "[2021-04-15 13:56:20,773] [   TRAIN] - Epoch=3/3, Step=40/282 loss=0.0936 acc=0.9719 lr=0.000050 step/sec=4.59 | ETA 00:04:58\n",
      "[2021-04-15 13:56:22,949] [   TRAIN] - Epoch=3/3, Step=50/282 loss=0.1120 acc=0.9656 lr=0.000050 step/sec=4.60 | ETA 00:04:56\n",
      "[2021-04-15 13:56:25,130] [   TRAIN] - Epoch=3/3, Step=60/282 loss=0.0808 acc=0.9781 lr=0.000050 step/sec=4.59 | ETA 00:04:55\n",
      "[2021-04-15 13:56:27,303] [   TRAIN] - Epoch=3/3, Step=70/282 loss=0.0695 acc=0.9844 lr=0.000050 step/sec=4.60 | ETA 00:04:53\n",
      "[2021-04-15 13:56:29,483] [   TRAIN] - Epoch=3/3, Step=80/282 loss=0.0936 acc=0.9719 lr=0.000050 step/sec=4.59 | ETA 00:04:51\n",
      "[2021-04-15 13:56:31,666] [   TRAIN] - Epoch=3/3, Step=90/282 loss=0.0778 acc=0.9750 lr=0.000050 step/sec=4.58 | ETA 00:04:50\n",
      "[2021-04-15 13:56:33,850] [   TRAIN] - Epoch=3/3, Step=100/282 loss=0.0504 acc=0.9875 lr=0.000050 step/sec=4.58 | ETA 00:04:48\n",
      "[2021-04-15 13:56:36,030] [   TRAIN] - Epoch=3/3, Step=110/282 loss=0.1575 acc=0.9656 lr=0.000050 step/sec=4.59 | ETA 00:04:46\n",
      "[2021-04-15 13:56:38,208] [   TRAIN] - Epoch=3/3, Step=120/282 loss=0.0741 acc=0.9781 lr=0.000050 step/sec=4.59 | ETA 00:04:45\n",
      "[2021-04-15 13:56:40,387] [   TRAIN] - Epoch=3/3, Step=130/282 loss=0.0767 acc=0.9812 lr=0.000050 step/sec=4.59 | ETA 00:04:44\n",
      "[2021-04-15 13:56:42,576] [   TRAIN] - Epoch=3/3, Step=140/282 loss=0.0591 acc=0.9844 lr=0.000050 step/sec=4.57 | ETA 00:04:42\n",
      "[2021-04-15 13:56:44,758] [   TRAIN] - Epoch=3/3, Step=150/282 loss=0.0284 acc=0.9969 lr=0.000050 step/sec=4.58 | ETA 00:04:41\n",
      "[2021-04-15 13:56:46,931] [   TRAIN] - Epoch=3/3, Step=160/282 loss=0.0776 acc=0.9875 lr=0.000050 step/sec=4.60 | ETA 00:04:39\n",
      "[2021-04-15 13:56:49,111] [   TRAIN] - Epoch=3/3, Step=170/282 loss=0.0379 acc=0.9875 lr=0.000050 step/sec=4.59 | ETA 00:04:38\n",
      "[2021-04-15 13:56:51,289] [   TRAIN] - Epoch=3/3, Step=180/282 loss=0.0905 acc=0.9781 lr=0.000050 step/sec=4.59 | ETA 00:04:37\n",
      "[2021-04-15 13:56:53,472] [   TRAIN] - Epoch=3/3, Step=190/282 loss=0.0756 acc=0.9750 lr=0.000050 step/sec=4.58 | ETA 00:04:36\n",
      "[2021-04-15 13:56:55,664] [   TRAIN] - Epoch=3/3, Step=200/282 loss=0.0675 acc=0.9750 lr=0.000050 step/sec=4.56 | ETA 00:04:34\n",
      "[2021-04-15 13:56:57,851] [   TRAIN] - Epoch=3/3, Step=210/282 loss=0.0772 acc=0.9812 lr=0.000050 step/sec=4.57 | ETA 00:04:33\n",
      "[2021-04-15 13:57:00,035] [   TRAIN] - Epoch=3/3, Step=220/282 loss=0.1035 acc=0.9594 lr=0.000050 step/sec=4.58 | ETA 00:04:32\n",
      "[2021-04-15 13:57:02,225] [   TRAIN] - Epoch=3/3, Step=230/282 loss=0.1212 acc=0.9656 lr=0.000050 step/sec=4.57 | ETA 00:04:31\n",
      "[2021-04-15 13:57:04,410] [   TRAIN] - Epoch=3/3, Step=240/282 loss=0.0750 acc=0.9906 lr=0.000050 step/sec=4.58 | ETA 00:04:30\n",
      "[2021-04-15 13:57:06,587] [   TRAIN] - Epoch=3/3, Step=250/282 loss=0.0622 acc=0.9812 lr=0.000050 step/sec=4.59 | ETA 00:04:29\n",
      "[2021-04-15 13:57:08,768] [   TRAIN] - Epoch=3/3, Step=260/282 loss=0.0757 acc=0.9750 lr=0.000050 step/sec=4.58 | ETA 00:04:28\n",
      "[2021-04-15 13:57:10,963] [   TRAIN] - Epoch=3/3, Step=270/282 loss=0.1568 acc=0.9656 lr=0.000050 step/sec=4.56 | ETA 00:04:27\n",
      "[2021-04-15 13:57:13,137] [   TRAIN] - Epoch=3/3, Step=280/282 loss=0.1510 acc=0.9656 lr=0.000050 step/sec=4.60 | ETA 00:04:26\n",
      "[2021-04-15 13:57:16,929] [    EVAL] - Evaluation on validation dataset: \\ - Evaluation on validation dataset: | - Evaluation on validation dataset: / - Evaluation on validation dataset: - - Evaluation on validation dataset: \\ - Evaluation on validation dataset: | - Evaluation on validation dataset: / - Evaluation on validation dataset: - - Evaluation on validation dataset: \\ - Evaluation on validation dataset: | - Evaluation on validation dataset: / - Evaluation on validation dataset: - - Evaluation on validation dataset: \\ - Evaluation on validation dataset: | - Evaluation on validation dataset: / - Evaluation on validation dataset: - - Evaluation on validation dataset: \\ - Evaluation on validation dataset: | - Evaluation on validation dataset: / - Evaluation on validation dataset: - - Evaluation on validation dataset: \\ - Evaluation on validation dataset: | - Evaluation on validation dataset: / - Evaluation on validation dataset: - - Evaluation on validation dataset: \\ - Evaluation on validation dataset: | - Evaluation on validation dataset: / - Evaluation on validation dataset: - - Evaluation on validation dataset: \\ - Evaluation on validation dataset: | - Evaluation on validation dataset: / - Evaluation on validation dataset: - - [Evaluation result] avg_acc=0.9071\n",
      "[2021-04-15 13:57:16,933] [    INFO] - Saving model checkpoint to ./ckpt/epoch_3\n"
     ]
    }
   ],
   "source": [
    "#微调fine-tune，训练3个周期\n",
    "optimizer = paddle.optimizer.Adam(learning_rate=5e-5, parameters=model.parameters())\n",
    "trainer = hub.Trainer(model, optimizer, checkpoint_dir='./ckpt', use_gpu=True)\n",
    "trainer.train(train_dataset, epochs=3, batch_size=32, eval_dataset=dev_dataset, save_interval=1)"
   ]
  },
  {
   "cell_type": "code",
   "execution_count": 6,
   "metadata": {
    "collapsed": false
   },
   "outputs": [
    {
     "name": "stderr",
     "output_type": "stream",
     "text": [
      "[2021-04-15 13:57:43,235] [    INFO] - Evaluation on validation dataset: \\\n",
      "[2021-04-15 13:57:46,766] [    EVAL] - Evaluation on validation dataset: | - Evaluation on validation dataset: / - Evaluation on validation dataset: - - Evaluation on validation dataset: \\ - Evaluation on validation dataset: | - Evaluation on validation dataset: / - Evaluation on validation dataset: - - Evaluation on validation dataset: \\ - Evaluation on validation dataset: | - Evaluation on validation dataset: / - Evaluation on validation dataset: - - Evaluation on validation dataset: \\ - Evaluation on validation dataset: | - Evaluation on validation dataset: / - Evaluation on validation dataset: - - Evaluation on validation dataset: \\ - Evaluation on validation dataset: | - Evaluation on validation dataset: / - Evaluation on validation dataset: - - Evaluation on validation dataset: \\ - Evaluation on validation dataset: | - Evaluation on validation dataset: / - Evaluation on validation dataset: - - Evaluation on validation dataset: \\ - Evaluation on validation dataset: | - Evaluation on validation dataset: / - Evaluation on validation dataset: - - Evaluation on validation dataset: \\ - Evaluation on validation dataset: | - Evaluation on validation dataset: / - Evaluation on validation dataset: - - Evaluation on validation dataset: \\ - Evaluation on validation dataset: | - [Evaluation result] avg_acc=0.9250\n"
     ]
    }
   ],
   "source": [
    "#使用测试集test.txt测试模型性能，avg_acc=0.925\n",
    "result = trainer.evaluate(test_dataset, batch_size=32) "
   ]
  },
  {
   "cell_type": "code",
   "execution_count": 7,
   "metadata": {
    "collapsed": false
   },
   "outputs": [
    {
     "name": "stderr",
     "output_type": "stream",
     "text": [
      "[2021-04-15 13:58:51,648] [    INFO] - Already cached /home/aistudio/.paddlenlp/models/ernie-1.0/ernie_v1_chn_base.pdparams\n",
      "/opt/conda/envs/python35-paddle120-env/lib/python3.7/site-packages/paddle/fluid/dygraph/layers.py:1303: UserWarning: Skip loading for classifier.weight. classifier.weight is not found in the provided dict.\n",
      "  warnings.warn((\"Skip loading for {}. \".format(key) + str(err)))\n",
      "/opt/conda/envs/python35-paddle120-env/lib/python3.7/site-packages/paddle/fluid/dygraph/layers.py:1303: UserWarning: Skip loading for classifier.bias. classifier.bias is not found in the provided dict.\n",
      "  warnings.warn((\"Skip loading for {}. \".format(key) + str(err)))\n",
      "[2021-04-15 13:58:58,269] [    INFO] - Loaded parameters from /home/aistudio/ckpt/best_model/model.pdparams\n",
      "[2021-04-15 13:58:58,425] [    INFO] - Found /home/aistudio/.paddlenlp/models/ernie-1.0/vocab.txt\n"
     ]
    },
    {
     "name": "stdout",
     "output_type": "stream",
     "text": [
      "Data: 昌平京基鹭府10月29日推别墅1200万套起享97折　　新浪房产讯(编辑郭彪)京基鹭府(论坛相册户型样板间点评地图搜索)售楼处位于昌平区京承高速北七家出口向西南公里路南。项目预计10月29日开盘，总价1200万元/套起，2012年年底入住。待售户型为联排户型面积为410-522平方米，独栋户型面积为938平方米，双拼户型面积为522平方米。　　京基鹭府项目位于昌平定泗路与东北路交界处。项目周边配套齐全，幼儿园：伊顿双语幼儿园、温莎双语幼儿园；中学：北师大亚太实验学校、潞河中学(北京市重点)；大学：王府语言学校、北京邮电大学、现代音乐学院；医院：王府中西医结合医院(三级甲等)、潞河医院、解放军263医院、安贞医院昌平分院；购物：龙德广场、中联万家商厦、世纪华联超市、瑰宝购物中心、家乐福超市；酒店：拉斐特城堡、鲍鱼岛；休闲娱乐设施：九华山庄、温都温泉度假村、小汤山疗养院、龙脉温泉度假村、小汤山文化广场、皇港高尔夫、高地高尔夫、北鸿高尔夫球场；银行：工商银行、建设银行、中国银行、北京农村商业银行；邮局：中国邮政储蓄；其它：北七家建材城、百安居建材超市、北七家镇武装部、北京宏翔鸿企业孵化基地等，享受便捷生活。 \t Lable: 房产\n",
      "Data: 尽管官方到今天也没有公布《使命召唤：现代战争2》的游戏详情，但《使命召唤：现代战争2》首部包含游戏画面的影片终于现身。虽然影片仅有短短不到20秒，但影片最后承诺大家将于美国时间5月24日NBA职业篮球东区决赛时将会揭露更多的游戏内容。　　这部只有18秒的广告片闪现了9个镜头，能够辨识的场景有直升机飞向海岛军事工事，有飞机场争夺战，有潜艇和水下工兵，有冰上乘具，以及其他的一些镜头。整体来看《现代战争2》很大可能仍旧与俄罗斯有关。　　片尾有一则预告：“May24th，EasternConferenceFinals”，这是什么？这是说当前美国NBA联赛东部总决赛的日期。原来这部视频是NBA季后赛奥兰多魔术对波士顿凯尔特人队时，TNT电视台播放的广告。 \t Lable: 游戏\n",
      "Data: 罗马锋王竟公然挑战两大旗帜拉涅利的球队到底错在哪　　记者张恺报道主场一球小胜副班长巴里无可吹捧，罗马占优也纯属正常，倒是托蒂罚失点球和前两号门将先后受伤(多尼以三号身份出场)更让人揪心。阵容规模扩大，反而表现不如上赛季，缺乏一流强队的色彩，这是所有球迷对罗马的印象。　　拉涅利说：“去年我们带着嫉妒之心看国米，今年我们也有了和国米同等的超级阵容，许多教练都想有罗马的球员。阵容广了，寻找队内平衡就难了，某些时段球员的互相排斥和跟从前相比的落差都正常。有好的一面，也有不好的一面，所幸，我们一直在说一支伟大的罗马，必胜的信念和够级别的阵容，我们有了。”拉涅利的总结由近一阶段困扰罗马的队内摩擦、个别球员闹意见要走人而发，本赛季技术层面强化的罗马一直没有上赛季反扑的面貌，内部变化值得球迷关注。 \t Lable: 体育\n",
      "Data: 新总督致力提高加拿大公立教育质量　　滑铁卢大学校长约翰斯顿先生于10月1日担任加拿大总督职务。约翰斯顿先生还曾任麦吉尔大学长，并曾在多伦多大学、女王大学和西安大略大学担任教学职位。　　约翰斯顿先生在就职演说中表示，要将加拿大建设成为一个“聪明与关爱的国度”。为实现这一目标，他提出三个支柱：支持并关爱家庭、儿童；鼓励学习与创造；提倡慈善和志愿者精神。他尤其强调要关爱并尊重教师，并通过公立教育使每个人的才智得到充分发展。 \t Lable: 时政\n"
     ]
    }
   ],
   "source": [
    "#使用指定数据测试\n",
    "data = [\n",
    "    # 房产\n",
    "    [\"昌平京基鹭府10月29日推别墅1200万套起享97折　　新浪房产讯(编辑郭彪)京基鹭府(论坛相册户型样板间点评地图搜索)售楼处位于昌平区京承高速北七家出口向西南公里路南。项目预计10月29日开盘，总价1200万元/套起，2012年年底入住。待售户型为联排户型面积为410-522平方米，独栋户型面积为938平方米，双拼户型面积为522平方米。　　京基鹭府项目位于昌平定泗路与东北路交界处。项目周边配套齐全，幼儿园：伊顿双语幼儿园、温莎双语幼儿园；中学：北师大亚太实验学校、潞河中学(北京市重点)；大学：王府语言学校、北京邮电大学、现代音乐学院；医院：王府中西医结合医院(三级甲等)、潞河医院、解放军263医院、安贞医院昌平分院；购物：龙德广场、中联万家商厦、世纪华联超市、瑰宝购物中心、家乐福超市；酒店：拉斐特城堡、鲍鱼岛；休闲娱乐设施：九华山庄、温都温泉度假村、小汤山疗养院、龙脉温泉度假村、小汤山文化广场、皇港高尔夫、高地高尔夫、北鸿高尔夫球场；银行：工商银行、建设银行、中国银行、北京农村商业银行；邮局：中国邮政储蓄；其它：北七家建材城、百安居建材超市、北七家镇武装部、北京宏翔鸿企业孵化基地等，享受便捷生活。\"],\n",
    "    # 游戏\n",
    "    [\"尽管官方到今天也没有公布《使命召唤：现代战争2》的游戏详情，但《使命召唤：现代战争2》首部包含游戏画面的影片终于现身。虽然影片仅有短短不到20秒，但影片最后承诺大家将于美国时间5月24日NBA职业篮球东区决赛时将会揭露更多的游戏内容。　　这部只有18秒的广告片闪现了9个镜头，能够辨识的场景有直升机飞向海岛军事工事，有飞机场争夺战，有潜艇和水下工兵，有冰上乘具，以及其他的一些镜头。整体来看《现代战争2》很大可能仍旧与俄罗斯有关。　　片尾有一则预告：“May24th，EasternConferenceFinals”，这是什么？这是说当前美国NBA联赛东部总决赛的日期。原来这部视频是NBA季后赛奥兰多魔术对波士顿凯尔特人队时，TNT电视台播放的广告。\"],\n",
    "    # 体育\n",
    "    [\"罗马锋王竟公然挑战两大旗帜拉涅利的球队到底错在哪　　记者张恺报道主场一球小胜副班长巴里无可吹捧，罗马占优也纯属正常，倒是托蒂罚失点球和前两号门将先后受伤(多尼以三号身份出场)更让人揪心。阵容规模扩大，反而表现不如上赛季，缺乏一流强队的色彩，这是所有球迷对罗马的印象。　　拉涅利说：“去年我们带着嫉妒之心看国米，今年我们也有了和国米同等的超级阵容，许多教练都想有罗马的球员。阵容广了，寻找队内平衡就难了，某些时段球员的互相排斥和跟从前相比的落差都正常。有好的一面，也有不好的一面，所幸，我们一直在说一支伟大的罗马，必胜的信念和够级别的阵容，我们有了。”拉涅利的总结由近一阶段困扰罗马的队内摩擦、个别球员闹意见要走人而发，本赛季技术层面强化的罗马一直没有上赛季反扑的面貌，内部变化值得球迷关注。\"],\n",
    "    # 教育\n",
    "    [\"新总督致力提高加拿大公立教育质量　　滑铁卢大学校长约翰斯顿先生于10月1日担任加拿大总督职务。约翰斯顿先生还曾任麦吉尔大学长，并曾在多伦多大学、女王大学和西安大略大学担任教学职位。　　约翰斯顿先生在就职演说中表示，要将加拿大建设成为一个“聪明与关爱的国度”。为实现这一目标，他提出三个支柱：支持并关爱家庭、儿童；鼓励学习与创造；提倡慈善和志愿者精神。他尤其强调要关爱并尊重教师，并通过公立教育使每个人的才智得到充分发展。\"]\n",
    "]\n",
    "\n",
    "label_list=['体育', '科技', '社会', '娱乐', '股票', '房产', '教育', '时政', '财经', '星座', '游戏', '家居', '彩票', '时尚']\n",
    "label_map = { \n",
    "    idx: label_text for idx, label_text in enumerate(label_list)\n",
    "}\n",
    "\n",
    "model = hub.Module(\n",
    "    name='ernie',\n",
    "    task='seq-cls',\n",
    "    load_checkpoint='./ckpt/best_model/model.pdparams',\n",
    "    label_map=label_map)\n",
    "results = model.predict(data, max_seq_len=128, batch_size=1, use_gpu=True)\n",
    "for idx, text in enumerate(data):\n",
    "    print('Data: {} \\t Lable: {}'.format(text[0], results[idx]))"
   ]
  }
 ],
 "metadata": {
  "kernelspec": {
   "display_name": "PaddlePaddle 2.0.0b0 (Python 3.5)",
   "language": "python",
   "name": "py35-paddle1.2.0"
  },
  "language_info": {
   "codemirror_mode": {
    "name": "ipython",
    "version": 3
   },
   "file_extension": ".py",
   "mimetype": "text/x-python",
   "name": "python",
   "nbconvert_exporter": "python",
   "pygments_lexer": "ipython3",
   "version": "3.7.4"
  }
 },
 "nbformat": 4,
 "nbformat_minor": 1
}
