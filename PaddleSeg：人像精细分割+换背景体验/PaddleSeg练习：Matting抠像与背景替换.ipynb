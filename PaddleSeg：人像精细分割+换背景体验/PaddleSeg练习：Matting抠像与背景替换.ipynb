{
 "cells": [
  {
   "cell_type": "markdown",
   "metadata": {
    "collapsed": false
   },
   "source": [
    "# PaddleSeg练习——Matting抠像与背景替换\n",
    "\n",
    "**Matting**是一种通过计算图像的颜色和透明度从从背景中提取前景对象的技术。 这项技术被广泛用于电影等行业，实现精细地背景替换、图像构图，制造各种惊艳的视觉效果。 \n",
    "\n",
    "Matting可以看作是一个特殊的分割问题，它旨在估计**透明度**，区分`前景`和`背景`，主要目的是拿到前景，是一项真正实用的替换背景技术。分割和Matting的一个重要区别是：分割返回的是像素分类标签，其结果是整型数据；而Matting返回的是属于前景或背景的概率`P`，从而在前景与背景交互区域产生渐变的效果，使得抠图更加自然。Matting分割模型训练完成后，对于原始图像每个位置上的像素，都将生成一个表示其`前景透明度`的值，称为 **Alpha**。 图像中所有 Alpha 值的集合称为 Alpha Matte。最后，利用Alpha将原始图像的对应位置上的像素点做pixel-wise的运算，便可实现精细的背景替换。\n",
    "\n",
    "本文将跑通Matting并实现个人照片的抠像与背景替换。"
   ]
  },
  {
   "cell_type": "markdown",
   "metadata": {
    "collapsed": false
   },
   "source": [
    "## 一、环境配置\n",
    "\n",
    "\n",
    "* 环境要求\n",
    "\n",
    "  * PaddlePaddle >= 2.0.2\n",
    "\n",
    "  * Python >= 3.7+\n",
    "  \n",
    "  * PaddleSeg\n",
    "  \n",
    "* 数据集\n",
    "\n",
    "  * MODNet 开源数据集 [PPM-100](https://github.com/ZHKKKe/PPM)\n"
   ]
  },
  {
   "cell_type": "code",
   "execution_count": null,
   "metadata": {
    "collapsed": false
   },
   "outputs": [],
   "source": [
    "# 下载 paddleseg\r\n",
    "%cd ~/work/\r\n",
    "!git clone https://github.com/PaddlePaddle/PaddleSeg.git"
   ]
  },
  {
   "cell_type": "code",
   "execution_count": null,
   "metadata": {
    "collapsed": false
   },
   "outputs": [],
   "source": [
    "# 安装 paddleseg\r\n",
    "%cd ~/work/PaddleSeg\r\n",
    "!pip install -e .\r\n",
    "!pip install scikit-image"
   ]
  },
  {
   "cell_type": "code",
   "execution_count": null,
   "metadata": {
    "collapsed": false
   },
   "outputs": [],
   "source": [
    "# 下载 PPM 数据集。你也可以使用自定义数据集。\r\n",
    "%cd ~/work/PaddleSeg/contrib/Matting\r\n",
    "!mkdir data \r\n",
    "%cd data\r\n",
    "!wget https://paddleseg.bj.bcebos.com/matting/datasets/PPM-100.zip\r\n",
    "!unzip PPM-100.zip\r\n",
    "%cd .."
   ]
  },
  {
   "cell_type": "markdown",
   "metadata": {
    "collapsed": false
   },
   "source": [
    "## 二、模型性能\n",
    "\n",
    "[DIM-VGG16](https://paddleseg.bj.bcebos.com/matting/models/dim-vgg16.pdparams)\n",
    "\n",
    "MODNet，在[PPM-100数据集](https://github.com/ZHKKKe/PPM)上的性能\n",
    "\n",
    "PaddleSeg提供了三种训练好的模型，可以直接下载体验。\n",
    "\n",
    "| 骨干网络 | SAD | MSE | 模型参数下载链接 |\n",
    "| --- | --- | --- | ---|\n",
    "| MobileNetV2 | 112.73 | 0.0098 | [modnet-mobilenetv2](https://paddleseg.bj.bcebos.com/matting/models/modnet-mobilenetv2.pdparams) |\n",
    "| ResNet50_vd | 104.14 | 0.0090 | [modnet-resnet50_vd](https://paddleseg.bj.bcebos.com/matting/models/modnet-resnet50_vd.pdparams) |\n",
    "| HRNet_W18 | 77.96 | 0.0054 | [modnet-hrnet_w18](https://paddleseg.bj.bcebos.com/matting/models/modnet-hrnet_w18.pdparams) |"
   ]
  },
  {
   "cell_type": "markdown",
   "metadata": {
    "collapsed": false
   },
   "source": [
    "## 三、训练\n",
    "\n",
    "\n",
    "note: 使用--do_eval会影响训练速度及增加显存消耗，根据需求进行开闭。\n",
    "\n",
    "``--num_workers``: 多进程数据读取，加快数据预处理速度\n",
    "\n",
    "更多参数信息请运行如下命令进行查看:\n",
    "```\n",
    "python train.py --help\n",
    "```\n",
    "\n",
    "如需使用多卡训练，请用 `python -m paddle.distributed.launch` 进行启动。使用方法可参考[文档](https://github.com/PaddlePaddle/PaddleSeg/blob/release/2.3/docs/train/train.md)"
   ]
  },
  {
   "cell_type": "code",
   "execution_count": null,
   "metadata": {
    "collapsed": false
   },
   "outputs": [
    {
     "name": "stdout",
     "output_type": "stream",
     "text": [
      "/home/aistudio/work/PaddleSeg/contrib/Matting\n"
     ]
    }
   ],
   "source": [
    "%cd ~/work/PaddleSeg/contrib/Matting"
   ]
  },
  {
   "cell_type": "code",
   "execution_count": null,
   "metadata": {
    "collapsed": false
   },
   "outputs": [
    {
     "name": "stdout",
     "output_type": "stream",
     "text": [
      "--2021-12-01 11:51:30--  https://paddleseg.bj.bcebos.com/matting/models/modnet-mobilenetv2.pdparams\n",
      "Resolving paddleseg.bj.bcebos.com (paddleseg.bj.bcebos.com)... 182.61.200.229, 182.61.200.195, 2409:8c04:1001:1002:0:ff:b001:368a\n",
      "Connecting to paddleseg.bj.bcebos.com (paddleseg.bj.bcebos.com)|182.61.200.229|:443... connected.\n",
      "HTTP request sent, awaiting response... 200 OK\n",
      "Length: 39162180 (37M) [application/octet-stream]\n",
      "Saving to: ‘modnet-mobilenetv2.pdparams’\n",
      "\n",
      "modnet-mobilenetv2. 100%[===================>]  37.35M  16.3MB/s    in 2.3s    \n",
      "\n",
      "2021-12-01 11:51:33 (16.3 MB/s) - ‘modnet-mobilenetv2.pdparams’ saved [39162180/39162180]\n",
      "\n"
     ]
    }
   ],
   "source": [
    "!wget https://paddleseg.bj.bcebos.com/matting/models/modnet-mobilenetv2.pdparams"
   ]
  },
  {
   "cell_type": "code",
   "execution_count": 8,
   "metadata": {
    "collapsed": false
   },
   "outputs": [
    {
     "name": "stdout",
     "output_type": "stream",
     "text": [
      "/home/aistudio/work/PaddleSeg/contrib/Matting\n",
      "2021-12-01 13:12:12 [INFO]\t\n",
      "------------Environment Information-------------\n",
      "platform: Linux-4.4.0-150-generic-x86_64-with-debian-stretch-sid\n",
      "Python: 3.7.4 (default, Aug 13 2019, 20:35:49) [GCC 7.3.0]\n",
      "Paddle compiled with cuda: True\n",
      "NVCC: Cuda compilation tools, release 10.1, V10.1.243\n",
      "cudnn: 7.6\n",
      "GPUs used: 1\n",
      "CUDA_VISIBLE_DEVICES: None\n",
      "GPU: ['GPU 0: Tesla V100-SXM2-16GB']\n",
      "GCC: gcc (Ubuntu 7.5.0-3ubuntu1~16.04) 7.5.0\n",
      "PaddlePaddle: 2.2.0\n",
      "OpenCV: 4.1.1\n",
      "------------------------------------------------\n",
      "2021-12-01 13:12:12 [INFO]\t\n",
      "---------------Config Information---------------\n",
      "batch_size: 1\n",
      "iters: 50\n",
      "lr_scheduler:\n",
      "  boundaries:\n",
      "  - 40000\n",
      "  - 80000\n",
      "  type: PiecewiseDecay\n",
      "  values:\n",
      "  - 0.02\n",
      "  - 0.002\n",
      "  - 0.0002\n",
      "model:\n",
      "  backbone:\n",
      "    pretrained: https://paddleseg.bj.bcebos.com/matting/models/MobileNetV2_pretrained/model.pdparams\n",
      "    type: MobileNetV2\n",
      "  pretrained: null\n",
      "  type: MODNet\n",
      "optimizer:\n",
      "  momentum: 0.9\n",
      "  type: sgd\n",
      "  weight_decay: 4.0e-05\n",
      "train_dataset:\n",
      "  dataset_root: data/PPM-100\n",
      "  mode: train\n",
      "  train_file: train.txt\n",
      "  transforms:\n",
      "  - type: LoadImages\n",
      "  - crop_size:\n",
      "    - 512\n",
      "    - 512\n",
      "    type: RandomCrop\n",
      "  - type: RandomDistort\n",
      "  - type: RandomBlur\n",
      "  - type: RandomHorizontalFlip\n",
      "  - type: Normalize\n",
      "  type: MattingDataset\n",
      "val_dataset:\n",
      "  dataset_root: data/PPM-100\n",
      "  get_trimap: false\n",
      "  mode: val\n",
      "  transforms:\n",
      "  - type: LoadImages\n",
      "  - short_size: 512\n",
      "    type: ResizeByShort\n",
      "  - mult_int: 32\n",
      "    type: ResizeToIntMult\n",
      "  - type: Normalize\n",
      "  type: MattingDataset\n",
      "  val_file: val.txt\n",
      "------------------------------------------------\n",
      "W1201 13:12:12.450698  1061 device_context.cc:447] Please NOTE: device: 0, GPU Compute Capability: 7.0, Driver API Version: 10.1, Runtime API Version: 10.1\n",
      "W1201 13:12:12.450750  1061 device_context.cc:465] device: 0, cuDNN Version: 7.6.\n",
      "2021-12-01 13:12:16 [INFO]\tLoading pretrained model from https://paddleseg.bj.bcebos.com/matting/models/MobileNetV2_pretrained/model.pdparams\n",
      "INFO:filelock:Lock 139957706639888 acquired on /home/aistudio/.paddleseg/tmp/MobileNetV2_pretrained\n",
      "INFO:filelock:Lock 139957706639888 released on /home/aistudio/.paddleseg/tmp/MobileNetV2_pretrained\n",
      "2021-12-01 13:12:17 [INFO]\tThere are 265/265 variables loaded into MobileNet.\n",
      "/opt/conda/envs/python35-paddle120-env/lib/python3.7/site-packages/paddle/nn/layer/norm.py:653: UserWarning: When training, we now always track global mean and variance.\n",
      "  \"When training, we now always track global mean and variance.\")\n",
      "2021-12-01 13:12:18 [INFO]\t[TRAIN] epoch=1, iter=1/50, loss=1.1346, lr=0.020000, batch_cost=1.0581, reader_cost=0.90028, ips=0.9451 samples/sec | ETA 00:00:51\n",
      "2021-12-01 13:12:18 [INFO]\t[TRAIN] [LOSS] all=1.1346 semantic=0.1556 detail=0.0000 fusion=0.9790 fusion_l1=0.5876 fusion_comp=0.3105 fusion_con_sem=0.0810\n",
      "2021-12-01 13:12:18 [INFO]\t[TRAIN] epoch=1, iter=2/50, loss=6.2206, lr=0.020000, batch_cost=0.2617, reader_cost=0.14407, ips=3.8205 samples/sec | ETA 00:00:12\n",
      "2021-12-01 13:12:18 [INFO]\t[TRAIN] [LOSS] all=6.2206 semantic=0.3069 detail=4.7955 fusion=1.1182 fusion_l1=0.7358 fusion_comp=0.2989 fusion_con_sem=0.0834\n",
      "2021-12-01 13:12:18 [INFO]\t[TRAIN] epoch=1, iter=3/50, loss=6.1417, lr=0.020000, batch_cost=0.1507, reader_cost=0.04647, ips=6.6350 samples/sec | ETA 00:00:07\n",
      "2021-12-01 13:12:18 [INFO]\t[TRAIN] [LOSS] all=6.1417 semantic=0.3068 detail=4.8277 fusion=1.0071 fusion_l1=0.6806 fusion_comp=0.2440 fusion_con_sem=0.0826\n",
      "2021-12-01 13:12:18 [INFO]\t[TRAIN] epoch=1, iter=4/50, loss=5.6959, lr=0.020000, batch_cost=0.1681, reader_cost=0.07379, ips=5.9488 samples/sec | ETA 00:00:07\n",
      "2021-12-01 13:12:18 [INFO]\t[TRAIN] [LOSS] all=5.6959 semantic=0.1978 detail=4.3970 fusion=1.1012 fusion_l1=0.7197 fusion_comp=0.3360 fusion_con_sem=0.0455\n",
      "2021-12-01 13:12:18 [INFO]\t[TRAIN] epoch=1, iter=5/50, loss=5.1682, lr=0.020000, batch_cost=0.1977, reader_cost=0.10413, ips=5.0571 samples/sec | ETA 00:00:08\n",
      "2021-12-01 13:12:18 [INFO]\t[TRAIN] [LOSS] all=5.1682 semantic=0.3773 detail=3.7770 fusion=1.0140 fusion_l1=0.5988 fusion_comp=0.3577 fusion_con_sem=0.0575\n",
      "2021-12-01 13:12:19 [INFO]\t[TRAIN] epoch=1, iter=6/50, loss=7.1650, lr=0.020000, batch_cost=0.3017, reader_cost=0.20801, ips=3.3141 samples/sec | ETA 00:00:13\n",
      "2021-12-01 13:12:19 [INFO]\t[TRAIN] [LOSS] all=7.1650 semantic=0.2248 detail=5.3484 fusion=1.5918 fusion_l1=0.9055 fusion_comp=0.6585 fusion_con_sem=0.0278\n",
      "2021-12-01 13:12:20 [INFO]\t[TRAIN] epoch=1, iter=7/50, loss=11.0649, lr=0.020000, batch_cost=1.1481, reader_cost=1.05451, ips=0.8710 samples/sec | ETA 00:00:49\n",
      "2021-12-01 13:12:20 [INFO]\t[TRAIN] [LOSS] all=11.0649 semantic=0.2689 detail=9.6274 fusion=1.1686 fusion_l1=0.5865 fusion_comp=0.5554 fusion_con_sem=0.0267\n",
      "2021-12-01 13:12:20 [INFO]\t[TRAIN] epoch=1, iter=8/50, loss=0.9857, lr=0.020000, batch_cost=0.2207, reader_cost=0.12719, ips=4.5312 samples/sec | ETA 00:00:09\n",
      "2021-12-01 13:12:20 [INFO]\t[TRAIN] [LOSS] all=0.9857 semantic=0.2684 detail=0.0000 fusion=0.7173 fusion_l1=0.4950 fusion_comp=0.2030 fusion_con_sem=0.0194\n",
      "2021-12-01 13:12:21 [INFO]\t[TRAIN] epoch=1, iter=9/50, loss=5.9899, lr=0.020000, batch_cost=0.8765, reader_cost=0.78293, ips=1.1409 samples/sec | ETA 00:00:35\n",
      "2021-12-01 13:12:21 [INFO]\t[TRAIN] [LOSS] all=5.9899 semantic=0.1906 detail=3.9662 fusion=1.8331 fusion_l1=1.3861 fusion_comp=0.4357 fusion_con_sem=0.0113\n",
      "2021-12-01 13:12:21 [INFO]\t[TRAIN] epoch=1, iter=10/50, loss=5.3126, lr=0.020000, batch_cost=0.3384, reader_cost=0.24506, ips=2.9554 samples/sec | ETA 00:00:13\n",
      "2021-12-01 13:12:21 [INFO]\t[TRAIN] [LOSS] all=5.3126 semantic=0.2331 detail=4.3624 fusion=0.7171 fusion_l1=0.4751 fusion_comp=0.2257 fusion_con_sem=0.0163\n",
      "2021-12-01 13:12:21 [INFO]\tStart evaluating (total_samples: 10, total_iters: 10)...\n",
      "10/10 [==============================] - 12s 1s/step - batch_cost: 1.2220 - reader cost: 0.079\n",
      "2021-12-01 13:12:34 [INFO]\t[EVAL] SAD: 8649.9815, MSE: 0.3880\n",
      "2021-12-01 13:12:34 [INFO]\t[EVAL] The model with the best validation sad (8649.9815) was saved at iter 10.\n",
      "2021-12-01 13:12:34 [INFO]\t[TRAIN] epoch=1, iter=11/50, loss=5.4683, lr=0.020000, batch_cost=0.0945, reader_cost=0.00026, ips=10.5872 samples/sec | ETA 00:00:03\n",
      "2021-12-01 13:12:34 [INFO]\t[TRAIN] [LOSS] all=5.4683 semantic=0.2012 detail=4.5628 fusion=0.7042 fusion_l1=0.5770 fusion_comp=0.0975 fusion_con_sem=0.0297\n",
      "2021-12-01 13:12:34 [INFO]\t[TRAIN] epoch=1, iter=12/50, loss=8.7233, lr=0.020000, batch_cost=0.0925, reader_cost=0.00016, ips=10.8064 samples/sec | ETA 00:00:03\n",
      "2021-12-01 13:12:34 [INFO]\t[TRAIN] [LOSS] all=8.7233 semantic=0.3432 detail=6.2682 fusion=2.1119 fusion_l1=1.3589 fusion_comp=0.7144 fusion_con_sem=0.0387\n",
      "2021-12-01 13:12:34 [INFO]\t[TRAIN] epoch=1, iter=13/50, loss=0.7564, lr=0.020000, batch_cost=0.0963, reader_cost=0.00018, ips=10.3818 samples/sec | ETA 00:00:03\n",
      "2021-12-01 13:12:34 [INFO]\t[TRAIN] [LOSS] all=0.7564 semantic=0.1143 detail=0.0000 fusion=0.6421 fusion_l1=0.4006 fusion_comp=0.1864 fusion_con_sem=0.0551\n",
      "2021-12-01 13:12:34 [INFO]\t[TRAIN] epoch=1, iter=14/50, loss=8.5649, lr=0.020000, batch_cost=0.1029, reader_cost=0.00018, ips=9.7149 samples/sec | ETA 00:00:03\n",
      "2021-12-01 13:12:34 [INFO]\t[TRAIN] [LOSS] all=8.5649 semantic=0.1022 detail=7.5595 fusion=0.9032 fusion_l1=0.4321 fusion_comp=0.4321 fusion_con_sem=0.0390\n",
      "2021-12-01 13:12:35 [INFO]\t[TRAIN] epoch=1, iter=15/50, loss=0.6807, lr=0.020000, batch_cost=0.8060, reader_cost=0.71193, ips=1.2407 samples/sec | ETA 00:00:28\n",
      "2021-12-01 13:12:35 [INFO]\t[TRAIN] [LOSS] all=0.6807 semantic=0.0734 detail=0.0000 fusion=0.6074 fusion_l1=0.3722 fusion_comp=0.1862 fusion_con_sem=0.0490\n",
      "2021-12-01 13:12:35 [INFO]\t[TRAIN] epoch=1, iter=16/50, loss=1.7673, lr=0.020000, batch_cost=0.2744, reader_cost=0.17940, ips=3.6439 samples/sec | ETA 00:00:09\n",
      "2021-12-01 13:12:35 [INFO]\t[TRAIN] [LOSS] all=1.7673 semantic=0.5828 detail=0.0000 fusion=1.1846 fusion_l1=0.6499 fusion_comp=0.4825 fusion_con_sem=0.0522\n",
      "2021-12-01 13:12:35 [INFO]\t[TRAIN] epoch=1, iter=17/50, loss=4.3309, lr=0.020000, batch_cost=0.2382, reader_cost=0.11844, ips=4.1973 samples/sec | ETA 00:00:07\n",
      "2021-12-01 13:12:35 [INFO]\t[TRAIN] [LOSS] all=4.3309 semantic=0.5176 detail=2.7876 fusion=1.0257 fusion_l1=0.7642 fusion_comp=0.2170 fusion_con_sem=0.0446\n",
      "2021-12-01 13:12:36 [INFO]\t[TRAIN] epoch=1, iter=18/50, loss=6.9671, lr=0.020000, batch_cost=0.7166, reader_cost=0.62107, ips=1.3955 samples/sec | ETA 00:00:22\n",
      "2021-12-01 13:12:36 [INFO]\t[TRAIN] [LOSS] all=6.9671 semantic=0.2581 detail=4.8834 fusion=1.8255 fusion_l1=0.9845 fusion_comp=0.8089 fusion_con_sem=0.0321\n",
      "2021-12-01 13:12:37 [INFO]\t[TRAIN] epoch=1, iter=19/50, loss=6.2908, lr=0.020000, batch_cost=0.3984, reader_cost=0.29143, ips=2.5099 samples/sec | ETA 00:00:12\n",
      "2021-12-01 13:12:37 [INFO]\t[TRAIN] [LOSS] all=6.2908 semantic=0.3899 detail=4.6799 fusion=1.2209 fusion_l1=0.7038 fusion_comp=0.4773 fusion_con_sem=0.0398\n",
      "2021-12-01 13:12:37 [INFO]\t[TRAIN] epoch=1, iter=20/50, loss=0.6158, lr=0.020000, batch_cost=0.5824, reader_cost=0.46745, ips=1.7170 samples/sec | ETA 00:00:17\n",
      "2021-12-01 13:12:37 [INFO]\t[TRAIN] [LOSS] all=0.6158 semantic=0.2162 detail=0.0000 fusion=0.3996 fusion_l1=0.3055 fusion_comp=0.0216 fusion_con_sem=0.0725\n",
      "2021-12-01 13:12:37 [INFO]\tStart evaluating (total_samples: 10, total_iters: 10)...\n",
      "10/10 [==============================] - 11s 1s/step - batch_cost: 1.0634 - reader cost: 0.06\n",
      "2021-12-01 13:12:48 [INFO]\t[EVAL] SAD: 5236.3855, MSE: 0.2189\n",
      "2021-12-01 13:12:48 [INFO]\t[EVAL] The model with the best validation sad (5236.3855) was saved at iter 20.\n",
      "2021-12-01 13:12:48 [INFO]\t[TRAIN] epoch=1, iter=21/50, loss=8.0127, lr=0.020000, batch_cost=0.1002, reader_cost=0.00027, ips=9.9799 samples/sec | ETA 00:00:02\n",
      "2021-12-01 13:12:48 [INFO]\t[TRAIN] [LOSS] all=8.0127 semantic=0.2829 detail=4.9863 fusion=2.7435 fusion_l1=1.4837 fusion_comp=1.2233 fusion_con_sem=0.0365\n",
      "2021-12-01 13:12:48 [INFO]\t[TRAIN] epoch=1, iter=22/50, loss=5.1710, lr=0.020000, batch_cost=0.0960, reader_cost=0.00018, ips=10.4215 samples/sec | ETA 00:00:02\n",
      "2021-12-01 13:12:48 [INFO]\t[TRAIN] [LOSS] all=5.1710 semantic=0.2680 detail=3.8153 fusion=1.0877 fusion_l1=0.8261 fusion_comp=0.1877 fusion_con_sem=0.0738\n",
      "2021-12-01 13:12:48 [INFO]\t[TRAIN] epoch=1, iter=23/50, loss=1.4275, lr=0.020000, batch_cost=0.0957, reader_cost=0.00024, ips=10.4455 samples/sec | ETA 00:00:02\n",
      "2021-12-01 13:12:48 [INFO]\t[TRAIN] [LOSS] all=1.4275 semantic=0.2209 detail=0.0000 fusion=1.2066 fusion_l1=0.6980 fusion_comp=0.4237 fusion_con_sem=0.0850\n",
      "2021-12-01 13:12:48 [INFO]\t[TRAIN] epoch=1, iter=24/50, loss=4.8504, lr=0.020000, batch_cost=0.1408, reader_cost=0.00024, ips=7.0999 samples/sec | ETA 00:00:03\n",
      "2021-12-01 13:12:48 [INFO]\t[TRAIN] [LOSS] all=4.8504 semantic=0.3755 detail=3.9092 fusion=0.5657 fusion_l1=0.3072 fusion_comp=0.1505 fusion_con_sem=0.1080\n",
      "2021-12-01 13:12:49 [INFO]\t[TRAIN] epoch=1, iter=25/50, loss=1.1409, lr=0.020000, batch_cost=0.1350, reader_cost=0.04137, ips=7.4071 samples/sec | ETA 00:00:03\n",
      "2021-12-01 13:12:49 [INFO]\t[TRAIN] [LOSS] all=1.1409 semantic=0.1931 detail=0.0000 fusion=0.9478 fusion_l1=0.6930 fusion_comp=0.1458 fusion_con_sem=0.1090\n",
      "2021-12-01 13:12:49 [INFO]\t[TRAIN] epoch=1, iter=26/50, loss=7.5721, lr=0.020000, batch_cost=0.2175, reader_cost=0.12466, ips=4.5976 samples/sec | ETA 00:00:05\n",
      "2021-12-01 13:12:49 [INFO]\t[TRAIN] [LOSS] all=7.5721 semantic=0.1999 detail=6.0452 fusion=1.3270 fusion_l1=0.8273 fusion_comp=0.4028 fusion_con_sem=0.0969\n",
      "2021-12-01 13:12:49 [INFO]\t[TRAIN] epoch=1, iter=27/50, loss=5.4077, lr=0.020000, batch_cost=0.2663, reader_cost=0.17280, ips=3.7545 samples/sec | ETA 00:00:06\n",
      "2021-12-01 13:12:49 [INFO]\t[TRAIN] [LOSS] all=5.4077 semantic=0.1414 detail=4.2093 fusion=1.0570 fusion_l1=0.6961 fusion_comp=0.2676 fusion_con_sem=0.0932\n",
      "2021-12-01 13:12:50 [INFO]\t[TRAIN] epoch=1, iter=28/50, loss=0.9779, lr=0.020000, batch_cost=0.6993, reader_cost=0.60564, ips=1.4300 samples/sec | ETA 00:00:15\n",
      "2021-12-01 13:12:50 [INFO]\t[TRAIN] [LOSS] all=0.9779 semantic=0.3329 detail=0.0000 fusion=0.6450 fusion_l1=0.3248 fusion_comp=0.2407 fusion_con_sem=0.0795\n",
      "2021-12-01 13:12:50 [INFO]\t[TRAIN] epoch=1, iter=29/50, loss=4.5088, lr=0.020000, batch_cost=0.2853, reader_cost=0.18042, ips=3.5051 samples/sec | ETA 00:00:05\n",
      "2021-12-01 13:12:50 [INFO]\t[TRAIN] [LOSS] all=4.5088 semantic=0.2863 detail=3.5967 fusion=0.6259 fusion_l1=0.3367 fusion_comp=0.2331 fusion_con_sem=0.0561\n",
      "2021-12-01 13:12:50 [INFO]\t[TRAIN] epoch=1, iter=30/50, loss=3.8387, lr=0.020000, batch_cost=0.1328, reader_cost=0.03962, ips=7.5304 samples/sec | ETA 00:00:02\n",
      "2021-12-01 13:12:50 [INFO]\t[TRAIN] [LOSS] all=3.8387 semantic=0.3890 detail=2.1534 fusion=1.2963 fusion_l1=0.7591 fusion_comp=0.4828 fusion_con_sem=0.0543\n",
      "2021-12-01 13:12:50 [INFO]\tStart evaluating (total_samples: 10, total_iters: 10)...\n",
      "10/10 [==============================] - 11s 1s/step - batch_cost: 1.1156 - reader cost: 0.06\n",
      "2021-12-01 13:13:01 [INFO]\t[EVAL] SAD: 5210.3080, MSE: 0.2156\n",
      "2021-12-01 13:13:02 [INFO]\t[EVAL] The model with the best validation sad (5210.3080) was saved at iter 30.\n",
      "2021-12-01 13:13:02 [INFO]\t[TRAIN] epoch=1, iter=31/50, loss=6.3694, lr=0.020000, batch_cost=0.0938, reader_cost=0.00024, ips=10.6592 samples/sec | ETA 00:00:01\n",
      "2021-12-01 13:13:02 [INFO]\t[TRAIN] [LOSS] all=6.3694 semantic=0.1561 detail=5.2971 fusion=0.9162 fusion_l1=0.6707 fusion_comp=0.2200 fusion_con_sem=0.0255\n",
      "2021-12-01 13:13:02 [INFO]\t[TRAIN] epoch=1, iter=32/50, loss=0.6088, lr=0.020000, batch_cost=0.0918, reader_cost=0.00015, ips=10.8987 samples/sec | ETA 00:00:01\n",
      "2021-12-01 13:13:02 [INFO]\t[TRAIN] [LOSS] all=0.6088 semantic=0.1172 detail=0.0000 fusion=0.4916 fusion_l1=0.3546 fusion_comp=0.1161 fusion_con_sem=0.0210\n",
      "2021-12-01 13:13:02 [INFO]\t[TRAIN] epoch=1, iter=33/50, loss=2.4640, lr=0.020000, batch_cost=0.0931, reader_cost=0.00018, ips=10.7403 samples/sec | ETA 00:00:01\n",
      "2021-12-01 13:13:02 [INFO]\t[TRAIN] [LOSS] all=2.4640 semantic=0.0923 detail=1.8246 fusion=0.5471 fusion_l1=0.3711 fusion_comp=0.1633 fusion_con_sem=0.0127\n",
      "2021-12-01 13:13:02 [INFO]\t[TRAIN] epoch=1, iter=34/50, loss=0.6872, lr=0.020000, batch_cost=0.1175, reader_cost=0.00020, ips=8.5091 samples/sec | ETA 00:00:01\n",
      "2021-12-01 13:13:02 [INFO]\t[TRAIN] [LOSS] all=0.6872 semantic=0.0715 detail=0.0000 fusion=0.6156 fusion_l1=0.3640 fusion_comp=0.2046 fusion_con_sem=0.0470\n",
      "2021-12-01 13:13:02 [INFO]\t[TRAIN] epoch=1, iter=35/50, loss=0.4990, lr=0.020000, batch_cost=0.2113, reader_cost=0.11756, ips=4.7337 samples/sec | ETA 00:00:03\n",
      "2021-12-01 13:13:02 [INFO]\t[TRAIN] [LOSS] all=0.4990 semantic=0.0423 detail=0.0000 fusion=0.4567 fusion_l1=0.3516 fusion_comp=0.0559 fusion_con_sem=0.0491\n",
      "2021-12-01 13:13:03 [INFO]\t[TRAIN] epoch=1, iter=36/50, loss=1.0548, lr=0.020000, batch_cost=0.3979, reader_cost=0.30425, ips=2.5134 samples/sec | ETA 00:00:05\n",
      "2021-12-01 13:13:03 [INFO]\t[TRAIN] [LOSS] all=1.0548 semantic=0.1216 detail=0.4927 fusion=0.4404 fusion_l1=0.2780 fusion_comp=0.1207 fusion_con_sem=0.0417\n",
      "2021-12-01 13:13:03 [INFO]\t[TRAIN] epoch=1, iter=37/50, loss=7.6960, lr=0.020000, batch_cost=0.7552, reader_cost=0.66200, ips=1.3242 samples/sec | ETA 00:00:09\n",
      "2021-12-01 13:13:03 [INFO]\t[TRAIN] [LOSS] all=7.6960 semantic=0.3356 detail=6.6769 fusion=0.6836 fusion_l1=0.4745 fusion_comp=0.1165 fusion_con_sem=0.0925\n",
      "2021-12-01 13:13:04 [INFO]\t[TRAIN] epoch=1, iter=38/50, loss=5.0120, lr=0.020000, batch_cost=0.7283, reader_cost=0.62667, ips=1.3731 samples/sec | ETA 00:00:08\n",
      "2021-12-01 13:13:04 [INFO]\t[TRAIN] [LOSS] all=5.0120 semantic=0.0307 detail=4.1414 fusion=0.8399 fusion_l1=0.3912 fusion_comp=0.3151 fusion_con_sem=0.1336\n",
      "2021-12-01 13:13:05 [INFO]\t[TRAIN] epoch=1, iter=39/50, loss=0.6774, lr=0.020000, batch_cost=0.4677, reader_cost=0.37357, ips=2.1382 samples/sec | ETA 00:00:05\n",
      "2021-12-01 13:13:05 [INFO]\t[TRAIN] [LOSS] all=0.6774 semantic=0.0248 detail=0.0000 fusion=0.6526 fusion_l1=0.3528 fusion_comp=0.2028 fusion_con_sem=0.0970\n",
      "2021-12-01 13:13:06 [INFO]\t[TRAIN] epoch=1, iter=40/50, loss=1.5199, lr=0.020000, batch_cost=1.0420, reader_cost=0.94835, ips=0.9597 samples/sec | ETA 00:00:10\n",
      "2021-12-01 13:13:06 [INFO]\t[TRAIN] [LOSS] all=1.5199 semantic=0.2131 detail=0.7087 fusion=0.5981 fusion_l1=0.3826 fusion_comp=0.1445 fusion_con_sem=0.0710\n",
      "2021-12-01 13:13:06 [INFO]\tStart evaluating (total_samples: 10, total_iters: 10)...\n",
      "10/10 [==============================] - 10s 987ms/step - batch_cost: 0.9865 - reader cost: 0.068\n",
      "2021-12-01 13:13:16 [INFO]\t[EVAL] SAD: 4510.5022, MSE: 0.1639\n",
      "2021-12-01 13:13:16 [INFO]\t[EVAL] The model with the best validation sad (4510.5022) was saved at iter 40.\n",
      "2021-12-01 13:13:16 [INFO]\t[TRAIN] epoch=1, iter=41/50, loss=0.6103, lr=0.020000, batch_cost=0.0933, reader_cost=0.00027, ips=10.7177 samples/sec | ETA 00:00:00\n",
      "2021-12-01 13:13:16 [INFO]\t[TRAIN] [LOSS] all=0.6103 semantic=0.0170 detail=0.0000 fusion=0.5933 fusion_l1=0.3066 fusion_comp=0.2058 fusion_con_sem=0.0809\n",
      "2021-12-01 13:13:16 [INFO]\t[TRAIN] epoch=1, iter=42/50, loss=2.6975, lr=0.020000, batch_cost=0.0920, reader_cost=0.00018, ips=10.8722 samples/sec | ETA 00:00:00\n",
      "2021-12-01 13:13:16 [INFO]\t[TRAIN] [LOSS] all=2.6975 semantic=0.2452 detail=1.7780 fusion=0.6743 fusion_l1=0.3492 fusion_comp=0.2243 fusion_con_sem=0.1008\n",
      "2021-12-01 13:13:16 [INFO]\t[TRAIN] epoch=1, iter=43/50, loss=6.4498, lr=0.020000, batch_cost=0.0915, reader_cost=0.00019, ips=10.9298 samples/sec | ETA 00:00:00\n",
      "2021-12-01 13:13:16 [INFO]\t[TRAIN] [LOSS] all=6.4498 semantic=0.1948 detail=4.6526 fusion=1.6025 fusion_l1=1.1070 fusion_comp=0.4665 fusion_con_sem=0.0290\n",
      "2021-12-01 13:13:16 [INFO]\t[TRAIN] epoch=1, iter=44/50, loss=6.4388, lr=0.020000, batch_cost=0.0914, reader_cost=0.00018, ips=10.9390 samples/sec | ETA 00:00:00\n",
      "2021-12-01 13:13:16 [INFO]\t[TRAIN] [LOSS] all=6.4388 semantic=0.3989 detail=4.9514 fusion=1.0884 fusion_l1=0.7129 fusion_comp=0.3124 fusion_con_sem=0.0631\n",
      "2021-12-01 13:13:16 [INFO]\t[TRAIN] epoch=1, iter=45/50, loss=3.5715, lr=0.020000, batch_cost=0.2488, reader_cost=0.15585, ips=4.0191 samples/sec | ETA 00:00:01\n",
      "2021-12-01 13:13:16 [INFO]\t[TRAIN] [LOSS] all=3.5715 semantic=0.1912 detail=2.6821 fusion=0.6982 fusion_l1=0.3706 fusion_comp=0.2798 fusion_con_sem=0.0477\n",
      "2021-12-01 13:13:17 [INFO]\t[TRAIN] epoch=1, iter=46/50, loss=7.4381, lr=0.020000, batch_cost=1.1030, reader_cost=1.00873, ips=0.9066 samples/sec | ETA 00:00:04\n",
      "2021-12-01 13:13:17 [INFO]\t[TRAIN] [LOSS] all=7.4381 semantic=0.4866 detail=5.3986 fusion=1.5530 fusion_l1=0.9920 fusion_comp=0.5185 fusion_con_sem=0.0424\n",
      "2021-12-01 13:13:18 [INFO]\t[TRAIN] epoch=1, iter=47/50, loss=3.3580, lr=0.020000, batch_cost=0.2178, reader_cost=0.12451, ips=4.5906 samples/sec | ETA 00:00:00\n",
      "2021-12-01 13:13:18 [INFO]\t[TRAIN] [LOSS] all=3.3580 semantic=0.3325 detail=2.2446 fusion=0.7810 fusion_l1=0.5506 fusion_comp=0.1819 fusion_con_sem=0.0485\n",
      "2021-12-01 13:13:18 [INFO]\t[TRAIN] epoch=1, iter=48/50, loss=3.1603, lr=0.020000, batch_cost=0.2255, reader_cost=0.13220, ips=4.4354 samples/sec | ETA 00:00:00\n",
      "2021-12-01 13:13:18 [INFO]\t[TRAIN] [LOSS] all=3.1603 semantic=0.3381 detail=2.0596 fusion=0.7625 fusion_l1=0.5368 fusion_comp=0.1713 fusion_con_sem=0.0545\n",
      "2021-12-01 13:13:18 [INFO]\t[TRAIN] epoch=1, iter=49/50, loss=0.7999, lr=0.020000, batch_cost=0.2134, reader_cost=0.11971, ips=4.6866 samples/sec | ETA 00:00:00\n",
      "2021-12-01 13:13:18 [INFO]\t[TRAIN] [LOSS] all=0.7999 semantic=0.1801 detail=0.0000 fusion=0.6198 fusion_l1=0.2976 fusion_comp=0.2519 fusion_con_sem=0.0702\n",
      "2021-12-01 13:13:19 [INFO]\t[TRAIN] epoch=1, iter=50/50, loss=0.7719, lr=0.020000, batch_cost=0.8910, reader_cost=0.79511, ips=1.1223 samples/sec | ETA 00:00:00\n",
      "2021-12-01 13:13:19 [INFO]\t[TRAIN] [LOSS] all=0.7719 semantic=0.2231 detail=0.0000 fusion=0.5488 fusion_l1=0.2810 fusion_comp=0.1818 fusion_con_sem=0.0861\n",
      "2021-12-01 13:13:19 [INFO]\tStart evaluating (total_samples: 10, total_iters: 10)...\n",
      "10/10 [==============================] - 10s 1s/step - batch_cost: 1.0007 - reader cost: 0.06\n",
      "2021-12-01 13:13:29 [INFO]\t[EVAL] SAD: 4515.3624, MSE: 0.1858\n",
      "2021-12-01 13:13:29 [INFO]\t[EVAL] The model with the best validation sad (4510.5022) was saved at iter 40.\n"
     ]
    }
   ],
   "source": [
    "%cd ~/work/PaddleSeg/contrib/Matting\r\n",
    "!python train.py \\\r\n",
    "       --config configs/modnet/modnet_mobilenetv2.yml \\\r\n",
    "       --iters 50 \\\r\n",
    "       --batch_size 1 \\\r\n",
    "       --save_interval 10 \\\r\n",
    "       --do_eval \\\r\n",
    "       --log_iters 1 \\\r\n",
    "       --num_workers 0 \\\r\n",
    "       --save_dir output"
   ]
  },
  {
   "cell_type": "markdown",
   "metadata": {
    "collapsed": false
   },
   "source": [
    "## 四、评估\n",
    "\n",
    "\n",
    "`-save_result`开启会保留图片的预测结果，可选择关闭以加快评估速度。\n",
    "\n",
    "可以直接下载PaddleSeg提供的模型进行评估。\n",
    "\n",
    "更多参数信息请运行如下命令进行查看:\n",
    "\n",
    "```\n",
    "python val.py --help\n",
    "```"
   ]
  },
  {
   "cell_type": "code",
   "execution_count": 10,
   "metadata": {
    "collapsed": false
   },
   "outputs": [
    {
     "name": "stdout",
     "output_type": "stream",
     "text": [
      "2021-12-01 13:14:26 [INFO]\t\n",
      "---------------Config Information---------------\n",
      "batch_size: 16\n",
      "iters: 100000\n",
      "lr_scheduler:\n",
      "  boundaries:\n",
      "  - 40000\n",
      "  - 80000\n",
      "  type: PiecewiseDecay\n",
      "  values:\n",
      "  - 0.02\n",
      "  - 0.002\n",
      "  - 0.0002\n",
      "model:\n",
      "  backbone:\n",
      "    pretrained: https://paddleseg.bj.bcebos.com/matting/models/MobileNetV2_pretrained/model.pdparams\n",
      "    type: MobileNetV2\n",
      "  pretrained: null\n",
      "  type: MODNet\n",
      "optimizer:\n",
      "  momentum: 0.9\n",
      "  type: sgd\n",
      "  weight_decay: 4.0e-05\n",
      "train_dataset:\n",
      "  dataset_root: data/PPM-100\n",
      "  mode: train\n",
      "  train_file: train.txt\n",
      "  transforms:\n",
      "  - type: LoadImages\n",
      "  - crop_size:\n",
      "    - 512\n",
      "    - 512\n",
      "    type: RandomCrop\n",
      "  - type: RandomDistort\n",
      "  - type: RandomBlur\n",
      "  - type: RandomHorizontalFlip\n",
      "  - type: Normalize\n",
      "  type: MattingDataset\n",
      "val_dataset:\n",
      "  dataset_root: data/PPM-100\n",
      "  get_trimap: false\n",
      "  mode: val\n",
      "  transforms:\n",
      "  - type: LoadImages\n",
      "  - short_size: 512\n",
      "    type: ResizeByShort\n",
      "  - mult_int: 32\n",
      "    type: ResizeToIntMult\n",
      "  - type: Normalize\n",
      "  type: MattingDataset\n",
      "  val_file: val.txt\n",
      "------------------------------------------------\n",
      "W1201 13:14:26.218525  1374 device_context.cc:447] Please NOTE: device: 0, GPU Compute Capability: 7.0, Driver API Version: 10.1, Runtime API Version: 10.1\n",
      "W1201 13:14:26.218570  1374 device_context.cc:465] device: 0, cuDNN Version: 7.6.\n",
      "2021-12-01 13:14:30 [INFO]\tLoading pretrained model from https://paddleseg.bj.bcebos.com/matting/models/MobileNetV2_pretrained/model.pdparams\n",
      "INFO:filelock:Lock 140008842017744 acquired on /home/aistudio/.paddleseg/tmp/MobileNetV2_pretrained\n",
      "INFO:filelock:Lock 140008842017744 released on /home/aistudio/.paddleseg/tmp/MobileNetV2_pretrained\n",
      "2021-12-01 13:14:30 [INFO]\tThere are 265/265 variables loaded into MobileNet.\n",
      "2021-12-01 13:14:30 [INFO]\tLoading pretrained model from modnet-mobilenetv2.pdparams\n",
      "2021-12-01 13:14:31 [INFO]\tThere are 410/410 variables loaded into MODNet.\n",
      "2021-12-01 13:14:31 [INFO]\tLoaded trained params of model successfully\n",
      "2021-12-01 13:14:31 [INFO]\tStart evaluating (total_samples: 10, total_iters: 10)...\n",
      "10/10 [==============================] - 11s 1s/step - batch_cost: 1.0634 - reader cost: 0.07\n",
      "2021-12-01 13:14:41 [INFO]\t[EVAL] SAD: 139.0225, MSE: 0.0066\n"
     ]
    }
   ],
   "source": [
    "!python val.py \\\r\n",
    "       --config configs/modnet/modnet_mobilenetv2.yml \\\r\n",
    "       --model_path modnet-mobilenetv2.pdparams \\\r\n",
    "       --save_dir ./output/results \\\r\n",
    "       --save_results"
   ]
  },
  {
   "cell_type": "markdown",
   "metadata": {
    "collapsed": false
   },
   "source": [
    "## 五、预测及可视化结果保存\n",
    "\n",
    "```shell\n",
    "export CUDA_VISIBLE_DEVICES=0\n",
    "python predict.py \\\n",
    "    --config configs/modnet/modnet_mobilenetv2.yml \\\n",
    "    --model_path output/best_model/model.pdparams \\\n",
    "    --image_path data/PPM-100/val/fg/ \\\n",
    "    --save_dir ./output/results\n",
    "```\n",
    "\n",
    "![](https://ai-studio-static-online.cdn.bcebos.com/1210201b439a49309953eea049828f4e4dff9c59491340f6ae673a6eaefc6cb1)\n",
    "\n",
    "如模型需要trimap信息，需要通过 `--trimap_path` 传入trimap路径。\n",
    "\n",
    "可以直接下载PaddleSeg提供的模型进行预测。\n",
    "\n",
    "更多参数信息请运行如下命令进行查看:\n",
    "\n",
    "```\n",
    "python predict.py --help\n",
    "```"
   ]
  },
  {
   "cell_type": "code",
   "execution_count": 17,
   "metadata": {
    "collapsed": false
   },
   "outputs": [
    {
     "name": "stdout",
     "output_type": "stream",
     "text": [
      "2021-12-01 13:46:55 [INFO]\t\n",
      "---------------Config Information---------------\n",
      "batch_size: 16\n",
      "iters: 100000\n",
      "lr_scheduler:\n",
      "  boundaries:\n",
      "  - 40000\n",
      "  - 80000\n",
      "  type: PiecewiseDecay\n",
      "  values:\n",
      "  - 0.02\n",
      "  - 0.002\n",
      "  - 0.0002\n",
      "model:\n",
      "  backbone:\n",
      "    pretrained: https://paddleseg.bj.bcebos.com/matting/models/MobileNetV2_pretrained/model.pdparams\n",
      "    type: MobileNetV2\n",
      "  pretrained: null\n",
      "  type: MODNet\n",
      "optimizer:\n",
      "  momentum: 0.9\n",
      "  type: sgd\n",
      "  weight_decay: 4.0e-05\n",
      "train_dataset:\n",
      "  dataset_root: data/PPM-100\n",
      "  mode: train\n",
      "  train_file: train.txt\n",
      "  transforms:\n",
      "  - type: LoadImages\n",
      "  - crop_size:\n",
      "    - 512\n",
      "    - 512\n",
      "    type: RandomCrop\n",
      "  - type: RandomDistort\n",
      "  - type: RandomBlur\n",
      "  - type: RandomHorizontalFlip\n",
      "  - type: Normalize\n",
      "  type: MattingDataset\n",
      "val_dataset:\n",
      "  dataset_root: data/PPM-100\n",
      "  get_trimap: false\n",
      "  mode: val\n",
      "  transforms:\n",
      "  - type: LoadImages\n",
      "  - short_size: 512\n",
      "    type: ResizeByShort\n",
      "  - mult_int: 32\n",
      "    type: ResizeToIntMult\n",
      "  - type: Normalize\n",
      "  type: MattingDataset\n",
      "  val_file: val.txt\n",
      "------------------------------------------------\n",
      "W1201 13:46:55.121219  4951 device_context.cc:447] Please NOTE: device: 0, GPU Compute Capability: 7.0, Driver API Version: 10.1, Runtime API Version: 10.1\n",
      "W1201 13:46:55.121261  4951 device_context.cc:465] device: 0, cuDNN Version: 7.6.\n",
      "2021-12-01 13:46:59 [INFO]\tLoading pretrained model from https://paddleseg.bj.bcebos.com/matting/models/MobileNetV2_pretrained/model.pdparams\n",
      "INFO:filelock:Lock 140503904534416 acquired on /home/aistudio/.paddleseg/tmp/MobileNetV2_pretrained\n",
      "INFO:filelock:Lock 140503904534416 released on /home/aistudio/.paddleseg/tmp/MobileNetV2_pretrained\n",
      "2021-12-01 13:46:59 [INFO]\tThere are 265/265 variables loaded into MobileNet.\n",
      "2021-12-01 13:46:59 [INFO]\tNumber of predict images = 5\n",
      "2021-12-01 13:46:59 [INFO]\tLoading pretrained model from modnet-mobilenetv2.pdparams\n",
      "2021-12-01 13:47:00 [INFO]\tThere are 410/410 variables loaded into MODNet.\n",
      "2021-12-01 13:47:00 [INFO]\tStart to predict...\n",
      "5/5 [==============================] - 1s 298ms/step - preprocess_cost: 0.1797 - infer_cost cost: 0.0310 - postprocess_cost: 0.08\n"
     ]
    }
   ],
   "source": [
    "!python predict.py \\\r\n",
    "    --config configs/modnet/modnet_mobilenetv2.yml \\\r\n",
    "    --model_path modnet-mobilenetv2.pdparams \\\r\n",
    "    --image_path predict_data/ \\\r\n",
    "    --save_dir ./output/results"
   ]
  },
  {
   "cell_type": "markdown",
   "metadata": {
    "collapsed": false
   },
   "source": [
    "#### 展示预测效果\n",
    "* 单人预测效果：还不错\n",
    "<div align='left'>\n",
    "  <img src='./Matting/predict_data/WechatIMG10.jpg' width='300'/>\n",
    "  <img src='./Matting/output/results/WechatIMG10.jpg' width='300'/>\n",
    "</div>\n",
    "\n",
    "\n",
    "* 多人预测效果：差强人意\n",
    "<div align='left'>\n",
    "  <img src='./Matting/predict_data/WechatIMG11.jpg' width='300'/>\n",
    "  <img src='./Matting/output/results/WechatIMG11.jpg' width='300'/>\n",
    "</div>\n",
    "<div align='left'>\n",
    "  <img src='./Matting/predict_data/WechatIMG12.jpg' width='300'/>\n",
    "  <img src='./Matting/output/results/WechatIMG12.jpg' width='300'/>\n",
    "</div>\n",
    "\n",
    "* 小猫咪预测效果：比较差（和数据集有关系）\n",
    "<div align='left'>\n",
    "  <img src='./Matting/predict_data/WechatIMG14.jpg' width='300'/>\n",
    "  <img src='./Matting/output/results/WechatIMG14.jpg' width='300'/>\n",
    "</div>"
   ]
  },
  {
   "cell_type": "markdown",
   "metadata": {
    "collapsed": false
   },
   "source": [
    "## 六、背景替换\n",
    "\n",
    "在得到一个性能较好的Matting模型后，就可以用它实现一些有趣的应用了。比如背景替换~"
   ]
  },
  {
   "cell_type": "code",
   "execution_count": 20,
   "metadata": {
    "collapsed": false
   },
   "outputs": [
    {
     "name": "stdout",
     "output_type": "stream",
     "text": [
      "/home/aistudio/work/PaddleSeg/contrib/Matting\n",
      "2021-12-01 14:05:37 [INFO]\t\n",
      "---------------Config Information---------------\n",
      "batch_size: 16\n",
      "iters: 100000\n",
      "lr_scheduler:\n",
      "  boundaries:\n",
      "  - 40000\n",
      "  - 80000\n",
      "  type: PiecewiseDecay\n",
      "  values:\n",
      "  - 0.02\n",
      "  - 0.002\n",
      "  - 0.0002\n",
      "model:\n",
      "  backbone:\n",
      "    pretrained: https://paddleseg.bj.bcebos.com/matting/models/MobileNetV2_pretrained/model.pdparams\n",
      "    type: MobileNetV2\n",
      "  pretrained: null\n",
      "  type: MODNet\n",
      "optimizer:\n",
      "  momentum: 0.9\n",
      "  type: sgd\n",
      "  weight_decay: 4.0e-05\n",
      "train_dataset:\n",
      "  dataset_root: data/PPM-100\n",
      "  mode: train\n",
      "  train_file: train.txt\n",
      "  transforms:\n",
      "  - type: LoadImages\n",
      "  - crop_size:\n",
      "    - 512\n",
      "    - 512\n",
      "    type: RandomCrop\n",
      "  - type: RandomDistort\n",
      "  - type: RandomBlur\n",
      "  - type: RandomHorizontalFlip\n",
      "  - type: Normalize\n",
      "  type: MattingDataset\n",
      "val_dataset:\n",
      "  dataset_root: data/PPM-100\n",
      "  get_trimap: false\n",
      "  mode: val\n",
      "  transforms:\n",
      "  - type: LoadImages\n",
      "  - short_size: 512\n",
      "    type: ResizeByShort\n",
      "  - mult_int: 32\n",
      "    type: ResizeToIntMult\n",
      "  - type: Normalize\n",
      "  type: MattingDataset\n",
      "  val_file: val.txt\n",
      "------------------------------------------------\n",
      "W1201 14:05:37.546423  6907 device_context.cc:447] Please NOTE: device: 0, GPU Compute Capability: 7.0, Driver API Version: 10.1, Runtime API Version: 10.1\n",
      "W1201 14:05:37.546465  6907 device_context.cc:465] device: 0, cuDNN Version: 7.6.\n",
      "2021-12-01 14:05:41 [INFO]\tLoading pretrained model from https://paddleseg.bj.bcebos.com/matting/models/MobileNetV2_pretrained/model.pdparams\n",
      "INFO:filelock:Lock 140333318758160 acquired on /home/aistudio/.paddleseg/tmp/MobileNetV2_pretrained\n",
      "INFO:filelock:Lock 140333318758160 released on /home/aistudio/.paddleseg/tmp/MobileNetV2_pretrained\n",
      "2021-12-01 14:05:42 [INFO]\tThere are 265/265 variables loaded into MobileNet.\n",
      "2021-12-01 14:05:42 [INFO]\tLoading pretrained model from modnet-mobilenetv2.pdparams\n",
      "2021-12-01 14:05:42 [INFO]\tThere are 410/410 variables loaded into MODNet.\n",
      "2021-12-01 14:05:42 [INFO]\tStart to predict...\n",
      "1/1 [==============================] - 0s 117ms/step - preprocess_cost: 0.0635 - infer_cost cost: 0.0382 - postprocess_cost: 0.0148\n"
     ]
    }
   ],
   "source": [
    "# 执行背景替换\r\n",
    "\r\n",
    "%cd ~/work/PaddleSeg/contrib/Matting/ \r\n",
    "\r\n",
    "!python bg_replace.py \\\r\n",
    "    --config configs/modnet/modnet_mobilenetv2.yml \\\r\n",
    "    --model_path modnet-mobilenetv2.pdparams \\\r\n",
    "    --image_path predict_data/WechatIMG10.jpg \\\r\n",
    "    --bg_path predict_data/background.jpg \\\r\n",
    "    --save_dir ./output/bg_results\r\n",
    "\r\n",
    "# 可在 ./output/bg_results 路径下查看背景替换效果"
   ]
  },
  {
   "cell_type": "markdown",
   "metadata": {
    "collapsed": false
   },
   "source": [
    " ## <left> **背景替换效果展示(左侧为原图，右侧为背景替换效果)**\n",
    " \n",
    " \n",
    "<div align='left'>\n",
    "  <img src='./Matting/predict_data/WechatIMG10.jpg' width='300'/>\n",
    "  <img src='./Matting/output/bg_results/WechatIMG10.jpg' width='300'/>\n",
    "</div>\n",
    "  \n"
   ]
  }
 ],
 "metadata": {
  "kernelspec": {
   "display_name": "Python 3",
   "language": "python",
   "name": "py35-paddle1.2.0"
  },
  "language_info": {
   "codemirror_mode": {
    "name": "ipython",
    "version": 3
   },
   "file_extension": ".py",
   "mimetype": "text/x-python",
   "name": "python",
   "nbconvert_exporter": "python",
   "pygments_lexer": "ipython3",
   "version": "3.7.4"
  }
 },
 "nbformat": 4,
 "nbformat_minor": 1
}
