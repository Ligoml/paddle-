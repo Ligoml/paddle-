{
 "cells": [
  {
   "cell_type": "markdown",
   "metadata": {
    "collapsed": false
   },
   "source": [
    "# PaddleGAN练习-「多人版」蚂蚁呀嘿\n",
    "\n",
    "\n",
    "PaddleGAN施魔法前：\n",
    "\n",
    "<div align='left'>\n",
    "  <img src='./WechatIMG12.png' width='600'/>\n",
    "</div>\n",
    "\n",
    "PaddleGAN施魔法后：\n",
    "\n",
    "<div align='left'>\n",
    "  <img src='./finalout.gif' width='600'/>\n",
    "</div>\n"
   ]
  },
  {
   "cell_type": "markdown",
   "metadata": {
    "collapsed": false
   },
   "source": [
    "\n",
    "整体流程分为三步：\n",
    "1. 将照片中的多人脸使用人脸检测模型S3FD框出并抠出\n",
    "2. 对抠出的人脸用First Order Motion进行脸部表情迁移\n",
    "3. 将迁移好的人脸放回对应的原位置\n",
    "\n",
    "**注意，由于人脸检测后，需要确定位置将人脸框出来并抠出，如果人脸太近，会框到除了其他的脸，导致效果较差**\n",
    "**所以尽量选取人脸间距较大的照片，同时，框的大小需要根据照片中人脸间距情况进行调节（参数--ratio）**"
   ]
  },
  {
   "cell_type": "markdown",
   "metadata": {
    "collapsed": false
   },
   "source": [
    "## 下载PaddleGAN"
   ]
  },
  {
   "cell_type": "code",
   "execution_count": 5,
   "metadata": {
    "collapsed": false
   },
   "outputs": [
    {
     "name": "stdout",
     "output_type": "stream",
     "text": [
      "fatal: destination path 'PaddleGAN' already exists and is not an empty directory.\n",
      "/home/aistudio/PaddleGAN\n",
      "Already on 'develop'\n",
      "Your branch is up-to-date with 'origin/develop'.\n"
     ]
    }
   ],
   "source": [
    "# 从github上克隆PaddleGAN代码\n",
    "#!git clone https://github.com/PaddlePaddle/PaddleGAN\n",
    "!git clone https://gitee.com/paddlepaddle/PaddleGAN.git\n",
    "%cd PaddleGAN\n",
    "!git checkout develop"
   ]
  },
  {
   "cell_type": "code",
   "execution_count": 6,
   "metadata": {
    "collapsed": false
   },
   "outputs": [
    {
     "name": "stdout",
     "output_type": "stream",
     "text": [
      "Looking in indexes: https://mirror.baidu.com/pypi/simple/\n",
      "Requirement already satisfied: tqdm in /opt/conda/envs/python35-paddle120-env/lib/python3.7/site-packages (from -r requirements.txt (line 1)) (4.36.1)\n",
      "Requirement already satisfied: PyYAML>=5.1 in /opt/conda/envs/python35-paddle120-env/lib/python3.7/site-packages (from -r requirements.txt (line 2)) (5.1.2)\n",
      "Collecting scikit-image>=0.14.0 (from -r requirements.txt (line 3))\n",
      "\u001b[?25l  Downloading https://mirror.baidu.com/pypi/packages/cd/d9/d738fdb4954575fb631b9c7a2eaa59df3ab8b7f3c2fc28a37259a42d8a49/scikit_image-0.18.2-cp37-cp37m-manylinux1_x86_64.whl (29.2MB)\n",
      "\u001b[K     |████████████████████████████████| 29.2MB 9.0MB/s eta 0:00:012\n",
      "\u001b[?25hRequirement already satisfied: scipy>=1.1.0 in /opt/conda/envs/python35-paddle120-env/lib/python3.7/site-packages (from -r requirements.txt (line 4)) (1.6.3)\n",
      "Requirement already satisfied: opencv-python in /opt/conda/envs/python35-paddle120-env/lib/python3.7/site-packages (from -r requirements.txt (line 5)) (4.1.1.26)\n",
      "Requirement already satisfied: imageio-ffmpeg in /opt/conda/envs/python35-paddle120-env/lib/python3.7/site-packages (from -r requirements.txt (line 6)) (0.3.0)\n",
      "Collecting librosa==0.7.0 (from -r requirements.txt (line 7))\n",
      "\u001b[?25l  Downloading https://mirror.baidu.com/pypi/packages/ad/6e/0eb0de1c9c4e02df0b40e56f258eb79bd957be79b918511a184268e01720/librosa-0.7.0.tar.gz (1.6MB)\n",
      "\u001b[K     |████████████████████████████████| 1.6MB 27.5MB/s eta 0:00:01\n",
      "\u001b[?25hRequirement already satisfied: numba==0.48 in /opt/conda/envs/python35-paddle120-env/lib/python3.7/site-packages (from -r requirements.txt (line 8)) (0.48.0)\n",
      "Requirement already satisfied: easydict in /opt/conda/envs/python35-paddle120-env/lib/python3.7/site-packages (from -r requirements.txt (line 9)) (1.9)\n",
      "Collecting munch (from -r requirements.txt (line 10))\n",
      "  Downloading https://mirror.baidu.com/pypi/packages/cc/ab/85d8da5c9a45e072301beb37ad7f833cd344e04c817d97e0cc75681d248f/munch-2.5.0-py2.py3-none-any.whl\n",
      "Collecting natsort (from -r requirements.txt (line 11))\n",
      "  Downloading https://mirror.baidu.com/pypi/packages/63/23/8b6acd2e9c0b427802dd45aacf0b2a0250893c3b26c7b1340589a588cc2a/natsort-7.1.1-py3-none-any.whl\n",
      "Requirement already satisfied: numpy>=1.16.5 in /opt/conda/envs/python35-paddle120-env/lib/python3.7/site-packages (from scikit-image>=0.14.0->-r requirements.txt (line 3)) (1.20.3)\n",
      "Collecting PyWavelets>=1.1.1 (from scikit-image>=0.14.0->-r requirements.txt (line 3))\n",
      "\u001b[?25l  Downloading https://mirror.baidu.com/pypi/packages/62/bd/592c7242fdd1218a96431512e77265c50812315ef72570ace85e1cfae298/PyWavelets-1.1.1-cp37-cp37m-manylinux1_x86_64.whl (4.4MB)\n",
      "\u001b[K     |████████████████████████████████| 4.4MB 14.1MB/s eta 0:00:01\n",
      "\u001b[?25hCollecting tifffile>=2019.7.26 (from scikit-image>=0.14.0->-r requirements.txt (line 3))\n",
      "\u001b[?25l  Downloading https://mirror.baidu.com/pypi/packages/dc/f4/55ad3c6ffcf12fc5d06e8b361a08d1e9ac774f0c8e5cd74e4947a76794cb/tifffile-2021.7.30-py3-none-any.whl (171kB)\n",
      "\u001b[K     |████████████████████████████████| 174kB 23.7MB/s eta 0:00:01\n",
      "\u001b[?25hRequirement already satisfied: matplotlib!=3.0.0,>=2.0.0 in /opt/conda/envs/python35-paddle120-env/lib/python3.7/site-packages (from scikit-image>=0.14.0->-r requirements.txt (line 3)) (2.2.3)\n",
      "Requirement already satisfied: imageio>=2.3.0 in /opt/conda/envs/python35-paddle120-env/lib/python3.7/site-packages (from scikit-image>=0.14.0->-r requirements.txt (line 3)) (2.6.1)\n",
      "Requirement already satisfied: networkx>=2.0 in /opt/conda/envs/python35-paddle120-env/lib/python3.7/site-packages (from scikit-image>=0.14.0->-r requirements.txt (line 3)) (2.4)\n",
      "Requirement already satisfied: pillow!=7.1.0,!=7.1.1,>=4.3.0 in /opt/conda/envs/python35-paddle120-env/lib/python3.7/site-packages (from scikit-image>=0.14.0->-r requirements.txt (line 3)) (7.1.2)\n",
      "Requirement already satisfied: audioread>=2.0.0 in /opt/conda/envs/python35-paddle120-env/lib/python3.7/site-packages (from librosa==0.7.0->-r requirements.txt (line 7)) (2.1.8)\n",
      "Requirement already satisfied: scikit-learn!=0.19.0,>=0.14.0 in /opt/conda/envs/python35-paddle120-env/lib/python3.7/site-packages (from librosa==0.7.0->-r requirements.txt (line 7)) (0.24.2)\n",
      "Requirement already satisfied: joblib>=0.12 in /opt/conda/envs/python35-paddle120-env/lib/python3.7/site-packages (from librosa==0.7.0->-r requirements.txt (line 7)) (0.14.1)\n",
      "Requirement already satisfied: decorator>=3.0.0 in /opt/conda/envs/python35-paddle120-env/lib/python3.7/site-packages (from librosa==0.7.0->-r requirements.txt (line 7)) (4.4.2)\n",
      "Requirement already satisfied: six>=1.3 in /opt/conda/envs/python35-paddle120-env/lib/python3.7/site-packages (from librosa==0.7.0->-r requirements.txt (line 7)) (1.15.0)\n",
      "Requirement already satisfied: resampy>=0.2.0 in /opt/conda/envs/python35-paddle120-env/lib/python3.7/site-packages (from librosa==0.7.0->-r requirements.txt (line 7)) (0.2.2)\n",
      "Requirement already satisfied: soundfile>=0.9.0 in /opt/conda/envs/python35-paddle120-env/lib/python3.7/site-packages (from librosa==0.7.0->-r requirements.txt (line 7)) (0.10.3.post1)\n",
      "Requirement already satisfied: llvmlite<0.32.0,>=0.31.0dev0 in /opt/conda/envs/python35-paddle120-env/lib/python3.7/site-packages (from numba==0.48->-r requirements.txt (line 8)) (0.31.0)\n",
      "Requirement already satisfied: setuptools in /opt/conda/envs/python35-paddle120-env/lib/python3.7/site-packages (from numba==0.48->-r requirements.txt (line 8)) (56.2.0)\n",
      "Requirement already satisfied: pytz in /opt/conda/envs/python35-paddle120-env/lib/python3.7/site-packages (from matplotlib!=3.0.0,>=2.0.0->scikit-image>=0.14.0->-r requirements.txt (line 3)) (2019.3)\n",
      "Requirement already satisfied: cycler>=0.10 in /opt/conda/envs/python35-paddle120-env/lib/python3.7/site-packages (from matplotlib!=3.0.0,>=2.0.0->scikit-image>=0.14.0->-r requirements.txt (line 3)) (0.10.0)\n",
      "Requirement already satisfied: python-dateutil>=2.1 in /opt/conda/envs/python35-paddle120-env/lib/python3.7/site-packages (from matplotlib!=3.0.0,>=2.0.0->scikit-image>=0.14.0->-r requirements.txt (line 3)) (2.8.0)\n",
      "Requirement already satisfied: kiwisolver>=1.0.1 in /opt/conda/envs/python35-paddle120-env/lib/python3.7/site-packages (from matplotlib!=3.0.0,>=2.0.0->scikit-image>=0.14.0->-r requirements.txt (line 3)) (1.1.0)\n",
      "Requirement already satisfied: pyparsing!=2.0.4,!=2.1.2,!=2.1.6,>=2.0.1 in /opt/conda/envs/python35-paddle120-env/lib/python3.7/site-packages (from matplotlib!=3.0.0,>=2.0.0->scikit-image>=0.14.0->-r requirements.txt (line 3)) (2.4.2)\n",
      "Requirement already satisfied: threadpoolctl>=2.0.0 in /opt/conda/envs/python35-paddle120-env/lib/python3.7/site-packages (from scikit-learn!=0.19.0,>=0.14.0->librosa==0.7.0->-r requirements.txt (line 7)) (2.1.0)\n",
      "Requirement already satisfied: cffi>=1.0 in /opt/conda/envs/python35-paddle120-env/lib/python3.7/site-packages (from soundfile>=0.9.0->librosa==0.7.0->-r requirements.txt (line 7)) (1.14.0)\n",
      "Requirement already satisfied: pycparser in /opt/conda/envs/python35-paddle120-env/lib/python3.7/site-packages (from cffi>=1.0->soundfile>=0.9.0->librosa==0.7.0->-r requirements.txt (line 7)) (2.19)\n",
      "Building wheels for collected packages: librosa\n",
      "  Building wheel for librosa (setup.py) ... \u001b[?25ldone\n",
      "\u001b[?25h  Created wheel for librosa: filename=librosa-0.7.0-cp37-none-any.whl size=1598345 sha256=57bf654a04fef67fadcc37478320c7ddcbd4143721e5065f047cbe14c9c3c380\n",
      "  Stored in directory: /home/aistudio/.cache/pip/wheels/81/7e/60/c27574fffbf2f28075dbf4b28c00d3fe3240fefb51d597932e\n",
      "Successfully built librosa\n",
      "Installing collected packages: PyWavelets, tifffile, scikit-image, librosa, munch, natsort\n",
      "  Found existing installation: librosa 0.7.2\n",
      "    Uninstalling librosa-0.7.2:\n",
      "      Successfully uninstalled librosa-0.7.2\n",
      "Successfully installed PyWavelets-1.1.1 librosa-0.7.0 munch-2.5.0 natsort-7.1.1 scikit-image-0.18.2 tifffile-2021.7.30\n",
      "Looking in indexes: https://mirror.baidu.com/pypi/simple/\n",
      "Requirement already satisfied: imageio-ffmpeg in /opt/conda/envs/python35-paddle120-env/lib/python3.7/site-packages (0.3.0)\n",
      "/home/aistudio/PaddleGAN/applications\n"
     ]
    }
   ],
   "source": [
    "# 安装所需安装包\n",
    "!pip install -r requirements.txt\n",
    "!pip install imageio-ffmpeg\n",
    "%cd applications/"
   ]
  },
  {
   "cell_type": "markdown",
   "metadata": {
    "collapsed": false
   },
   "source": [
    "## 执行命令\n",
    "\n",
    "上传自己准备的视频和图片，并在如下命令中的source_image参数和driving_video参数分别换成自己的图片和视频路径，然后运行如下命令，就可以完成动作表情迁移，程序运行成功后，会在ouput文件夹生成名为result.mp4的视频文件，该文件即为动作迁移后的视频。\n",
    "\n",
    "同时，根据自己上传的照片中人脸的间距，\n",
    "\n",
    "本项目中提供了原始图片和驱动视频供展示使用。具体的各参数使用说明如下\n",
    "- driving_video: 驱动视频，视频中人物的表情动作作为待迁移的对象\n",
    "- source_image: 原始图片，视频中人物的表情动作将迁移到该原始图片中的人物上\n",
    "- relative: 指示程序中使用视频和图片中人物关键点的相对坐标还是绝对坐标，建议使用相对坐标，若使用绝对坐标，会导致迁移后人物扭曲变形\n",
    "- adapt_scale: 根据关键点凸包自适应运动尺度\n",
    "- ratio: 将框出来的人脸贴回原图时的区域占宽高的比例，默认为0.4，范围为【0.4，0.5】\n",
    "- multi_person: 设置为多人脸转换\n",
    "\n",
    "\n"
   ]
  },
  {
   "cell_type": "code",
   "execution_count": 7,
   "metadata": {
    "collapsed": false
   },
   "outputs": [
    {
     "name": "stdout",
     "output_type": "stream",
     "text": [
      "/opt/conda/envs/python35-paddle120-env/lib/python3.7/site-packages/paddle/fluid/layers/utils.py:26: DeprecationWarning: `np.int` is a deprecated alias for the builtin `int`. To silence this warning, use `int` by itself. Doing this will not modify any behavior and is safe. When replacing `np.int`, you may wish to use e.g. `np.int64` or `np.int32` to specify the precision. If you wish to review your current use, check the release note link for additional information.\n",
      "Deprecated in NumPy 1.20; for more details and guidance: https://numpy.org/devdocs/release/1.20.0-notes.html#deprecations\n",
      "  def convert_to_list(value, n, name, dtype=np.int):\n",
      "[08/03 18:00:31] ppgan INFO: Downloading vox-cpk.pdparams from https://paddlegan.bj.bcebos.com/applications/first_order_model/vox-cpk.pdparams to /home/aistudio/.cache/ppgan/vox-cpk.pdparams\n",
      "100%|████████████████████████████████| 350931/350931 [00:04<00:00, 72712.11it/s]\n",
      "W0803 18:00:36.523557   220 device_context.cc:362] Please NOTE: device: 0, GPU Compute Capability: 7.0, Driver API Version: 10.1, Runtime API Version: 10.1\n",
      "W0803 18:00:36.527832   220 device_context.cc:372] device: 0, cuDNN Version: 7.6.\n",
      "/opt/conda/envs/python35-paddle120-env/lib/python3.7/site-packages/paddle/tensor/creation.py:143: DeprecationWarning: `np.object` is a deprecated alias for the builtin `object`. To silence this warning, use `object` by itself. Doing this will not modify any behavior and is safe. \n",
      "Deprecated in NumPy 1.20; for more details and guidance: https://numpy.org/devdocs/release/1.20.0-notes.html#deprecations\n",
      "  if data.dtype == np.object:\n",
      "2021-08-03 18:00:46,743 - INFO - unique_endpoints {''}\n",
      "2021-08-03 18:00:46,743 - INFO - Downloading s3fd_paddle.pdparams from https://paddlegan.bj.bcebos.com/models/s3fd_paddle.pdparams\n",
      "100%|████████████████████████████████| 109119/109119 [00:01<00:00, 61398.26it/s]\n",
      "2 persons have been detected\n",
      "100%|█████████████████████████████████████████| 222/222 [00:13<00:00, 16.02it/s]\n",
      "100%|█████████████████████████████████████████| 222/222 [00:16<00:00, 13.75it/s]\n",
      "2021-08-03 18:01:25,900 - WARNING - IMAGEIO FFMPEG_WRITER WARNING: input image is not divisible by macro_block_size=16, resizing from (1046, 858) to (1056, 864) to ensure video compatibility with most codecs and players. To prevent resizing, make your input image divisible by the macro_block_size or set the macro_block_size to 1 (risking incompatibility).\n",
      "\u001b[1;34m[swscaler @ 0x54b80c0] \u001b[0m\u001b[0;33mWarning: data is not aligned! This can lead to a speed loss\n",
      "\u001b[0m"
     ]
    }
   ],
   "source": [
    "!export PYTHONPATH=$PYTHONPATH:/home/aistudio/PaddleGAN && python -u tools/first-order-demo.py  --driving_video ~/work/2.MP4  --source_image /home/aistudio/WechatIMG12.png --ratio 0.4 --relative --adapt_scale --multi_person"
   ]
  },
  {
   "cell_type": "markdown",
   "metadata": {
    "collapsed": false
   },
   "source": [
    "## 最后一步：使用moviepy为生成的视频加上音乐"
   ]
  },
  {
   "cell_type": "code",
   "execution_count": 8,
   "metadata": {
    "collapsed": false
   },
   "outputs": [
    {
     "name": "stdout",
     "output_type": "stream",
     "text": [
      "Looking in indexes: https://mirror.baidu.com/pypi/simple/\n",
      "Requirement already satisfied: moviepy in /opt/conda/envs/python35-paddle120-env/lib/python3.7/site-packages (1.0.1)\n",
      "Requirement already satisfied: decorator<5.0,>=4.0.2 in /opt/conda/envs/python35-paddle120-env/lib/python3.7/site-packages (from moviepy) (4.4.2)\n",
      "Requirement already satisfied: requests<3.0,>=2.8.1 in /opt/conda/envs/python35-paddle120-env/lib/python3.7/site-packages (from moviepy) (2.22.0)\n",
      "Requirement already satisfied: proglog<=1.0.0 in /opt/conda/envs/python35-paddle120-env/lib/python3.7/site-packages (from moviepy) (0.1.9)\n",
      "Requirement already satisfied: numpy in /opt/conda/envs/python35-paddle120-env/lib/python3.7/site-packages (from moviepy) (1.20.3)\n",
      "Requirement already satisfied: imageio<3.0,>=2.5; python_version >= \"3.4\" in /opt/conda/envs/python35-paddle120-env/lib/python3.7/site-packages (from moviepy) (2.6.1)\n",
      "Requirement already satisfied: imageio-ffmpeg>=0.2.0; python_version >= \"3.4\" in /opt/conda/envs/python35-paddle120-env/lib/python3.7/site-packages (from moviepy) (0.3.0)\n",
      "Requirement already satisfied: tqdm<5.0,>=4.11.2 in /opt/conda/envs/python35-paddle120-env/lib/python3.7/site-packages (from moviepy) (4.36.1)\n",
      "Requirement already satisfied: certifi>=2017.4.17 in /opt/conda/envs/python35-paddle120-env/lib/python3.7/site-packages (from requests<3.0,>=2.8.1->moviepy) (2019.9.11)\n",
      "Requirement already satisfied: chardet<3.1.0,>=3.0.2 in /opt/conda/envs/python35-paddle120-env/lib/python3.7/site-packages (from requests<3.0,>=2.8.1->moviepy) (3.0.4)\n",
      "Requirement already satisfied: urllib3!=1.25.0,!=1.25.1,<1.26,>=1.21.1 in /opt/conda/envs/python35-paddle120-env/lib/python3.7/site-packages (from requests<3.0,>=2.8.1->moviepy) (1.25.6)\n",
      "Requirement already satisfied: idna<2.9,>=2.5 in /opt/conda/envs/python35-paddle120-env/lib/python3.7/site-packages (from requests<3.0,>=2.8.1->moviepy) (2.8)\n",
      "Requirement already satisfied: pillow in /opt/conda/envs/python35-paddle120-env/lib/python3.7/site-packages (from imageio<3.0,>=2.5; python_version >= \"3.4\"->moviepy) (7.1.2)\n"
     ]
    }
   ],
   "source": [
    "# add audio\n",
    "!pip install moviepy"
   ]
  },
  {
   "cell_type": "code",
   "execution_count": 9,
   "metadata": {
    "collapsed": false
   },
   "outputs": [
    {
     "name": "stderr",
     "output_type": "stream",
     "text": [
      "t:   0%|          | 0/223 [00:00<?, ?it/s, now=None]                "
     ]
    },
    {
     "name": "stdout",
     "output_type": "stream",
     "text": [
      "Moviepy - Building video ./output/finalout.mp4.\n",
      "MoviePy - Writing audio in finaloutTEMP_MPY_wvf_snd.mp4\n",
      "MoviePy - Done.\n",
      "Moviepy - Writing video ./output/finalout.mp4\n",
      "\n"
     ]
    },
    {
     "name": "stderr",
     "output_type": "stream",
     "text": [
      "t:   9%|▊         | 19/223 [00:00<00:01, 147.83it/s, now=None]                                                              \n"
     ]
    },
    {
     "name": "stdout",
     "output_type": "stream",
     "text": [
      "Moviepy - Done !\n",
      "Moviepy - video ready ./output/finalout.mp4\n"
     ]
    }
   ],
   "source": [
    "#为生成的视频加上音乐\n",
    "from moviepy.editor import *\n",
    "\n",
    "videoclip_1 = VideoFileClip(\"/home/aistudio/work/2.MP4\")\n",
    "videoclip_2 = VideoFileClip(\"./output/result.mp4\")\n",
    "\n",
    "audio_1 = videoclip_1.audio\n",
    "\n",
    "videoclip_3 = videoclip_2.set_audio(audio_1)\n",
    "videoclip_3.write_videofile(\"./output/finalout.mp4\", audio_codec=\"aac\")"
   ]
  },
  {
   "cell_type": "markdown",
   "metadata": {
    "collapsed": false
   },
   "source": [
    "# 多人版的蚂蚁呀嘿完成！\n",
    "\n",
    "至此，多人版本的蚂蚁呀嘿就制作完成啦~\n",
    "\n",
    "**大家快来动手尝试吧！记住，选择人物间距较大的合照效果更佳噢！**\n",
    "\n"
   ]
  }
 ],
 "metadata": {
  "kernelspec": {
   "display_name": "PaddlePaddle 2.0.0b0 (Python 3.5)",
   "language": "python",
   "name": "py35-paddle1.2.0"
  },
  "language_info": {
   "codemirror_mode": {
    "name": "ipython",
    "version": 3
   },
   "file_extension": ".py",
   "mimetype": "text/x-python",
   "name": "python",
   "nbconvert_exporter": "python",
   "pygments_lexer": "ipython3",
   "version": "3.7.4"
  }
 },
 "nbformat": 4,
 "nbformat_minor": 1
}
