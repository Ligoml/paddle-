{
 "cells": [
  {
   "cell_type": "markdown",
   "metadata": {
    "collapsed": false
   },
   "source": [
    "# 钢筋计数\n",
    "\n",
    "https://aistudio.baidu.com/aistudio/projectdetail/2404188?contributionType=1"
   ]
  },
  {
   "cell_type": "code",
   "execution_count": null,
   "metadata": {
    "collapsed": false
   },
   "outputs": [],
   "source": [
    "! pip install paddlex==2.0"
   ]
  },
  {
   "cell_type": "code",
   "execution_count": 9,
   "metadata": {
    "collapsed": false
   },
   "outputs": [],
   "source": [
    "#运行train.py 开始进行训练，log 保存在根目录\n",
    "!python code/train.py > log.txt"
   ]
  },
  {
   "cell_type": "code",
   "execution_count": 2,
   "metadata": {
    "collapsed": false
   },
   "outputs": [],
   "source": [
    "#模型预测\n",
    "!python code/infer.py"
   ]
  },
  {
   "cell_type": "markdown",
   "metadata": {
    "collapsed": false
   },
   "source": [
    "### 模型预测效果\n",
    "图像存储地址：./output/yolov3_mobilnetv1/visualize_4B145787.jpg\n",
    "<div align=\"center\">\n",
    "    <img src=\"output/yolov3_mobilnetv1/visualize_4B145787.jpg\" width=\"700\"/>\n",
    "</div>"
   ]
  },
  {
   "cell_type": "code",
   "execution_count": 14,
   "metadata": {
    "collapsed": false
   },
   "outputs": [],
   "source": [
    "# 模型导出 地址：output/inference_model/inference_model\n",
    "!paddlex --export_inference --model_dir=output/yolov3_mobilnetv1/best_model --save_dir=output/inference_model --fixed_input_shape=[608,608]"
   ]
  },
  {
   "cell_type": "code",
   "execution_count": null,
   "metadata": {
    "collapsed": false
   },
   "outputs": [],
   "source": [
    "### 一些优化修改练习，需要在 train.py 对应位置修改 code 后重新训练\n",
    "\n",
    "# 改主干网络 从yolov3_mobilnetv1改为yolov3_resnet34\n",
    "42 model = pdx.det.YOLOv3(num_classes=num_classes, backbone='yolov3_resnet34', label_smooth=True, ignore_threshold=0.7)\n",
    "\n",
    "# 改变网络输入 修改train_list.txt\n",
    "25 train_dataset = pdx.datasets.VOCDetection(\n",
    "    data_dir='dataset_reinforcing_steel_bar_counting',\n",
    "    file_list='dataset_reinforcing_steel_bar_counting/train_list.txt',\n",
    "    label_list='dataset_reinforcing_steel_bar_counting/labels.txt',\n",
    "    transforms=train_transforms,\n",
    "    shuffle=True)\n",
    "\n",
    "# 数据增强 修改resize，从RANDOM改为LINEAR，其他参数设置可参考https://github.com/PaddlePaddle/PaddleX/blob/release/2.0.0/paddlex/cv/transforms/operators.py\n",
    "6 train_transforms = transforms.Compose([\n",
    "    transforms.MixupImage(mixup_epoch=-1),\n",
    "    transforms.RandomDistort(),\n",
    "    transforms.RandomExpand(),\n",
    "    transforms.RandomCrop(),\n",
    "    transforms.Resize(\n",
    "        target_size=560, interp='LINEAR'),\n",
    "    transforms.RandomHorizontalFlip(),\n",
    "    transforms.Normalize(),"
   ]
  }
 ],
 "metadata": {
  "kernelspec": {
   "display_name": "Python 3",
   "language": "python",
   "name": "py35-paddle1.2.0"
  },
  "language_info": {
   "codemirror_mode": {
    "name": "ipython",
    "version": 3
   },
   "file_extension": ".py",
   "mimetype": "text/x-python",
   "name": "python",
   "nbconvert_exporter": "python",
   "pygments_lexer": "ipython3",
   "version": "3.7.4"
  }
 },
 "nbformat": 4,
 "nbformat_minor": 1
}
