{
 "cells": [
  {
   "cell_type": "markdown",
   "metadata": {
    "collapsed": false
   },
   "source": [
    "# 使用Paddle Inference完成推理\n",
    "\n",
    "## 1. 准备预测部署模型\n",
    "下载 ResNet50 模型后解压，得到 Paddle 预测格式的模型，位于文件夹 ResNet50 下。如需查看模型结构，可将 inference.pdmodel 加载到模型可视化工具 `Netron` 中打开。\n",
    "```shell\n",
    "# 获得模型目录即文件如下\n",
    "resnet50/\n",
    "├── inference.pdmodel\n",
    "├── inference.pdiparams.info\n",
    "└── inference.pdiparams\n",
    "```"
   ]
  },
  {
   "cell_type": "code",
   "execution_count": null,
   "metadata": {
    "collapsed": false
   },
   "outputs": [
    {
     "name": "stdout",
     "output_type": "stream",
     "text": [
      "--2022-01-28 13:53:06--  https://paddle-inference-dist.bj.bcebos.com/Paddle-Inference-Demo/resnet50.tgz\n",
      "Resolving paddle-inference-dist.bj.bcebos.com (paddle-inference-dist.bj.bcebos.com)... 182.61.200.229, 182.61.200.195, 2409:8c04:1001:1002:0:ff:b001:368a\n",
      "Connecting to paddle-inference-dist.bj.bcebos.com (paddle-inference-dist.bj.bcebos.com)|182.61.200.229|:443... connected.\n",
      "HTTP request sent, awaiting response... 200 OK\n",
      "Length: 95119015 (91M) [application/x-gzip]\n",
      "Saving to: ‘resnet50.tgz’\n",
      "\n",
      "resnet50.tgz        100%[===================>]  90.71M  38.9MB/s    in 2.3s    \n",
      "\n",
      "2022-01-28 13:53:08 (38.9 MB/s) - ‘resnet50.tgz’ saved [95119015/95119015]\n",
      "\n"
     ]
    }
   ],
   "source": [
    "!wget https://paddle-inference-dist.bj.bcebos.com/Paddle-Inference-Demo/resnet50.tgz\n",
    "!tar zxf resnet50.tgz"
   ]
  },
  {
   "cell_type": "markdown",
   "metadata": {
    "collapsed": false
   },
   "source": [
    "## 2. 准备预测部署程序并执行\n",
    "代码保存在 `python_demo.py` 文件中"
   ]
  },
  {
   "cell_type": "code",
   "execution_count": null,
   "metadata": {
    "collapsed": false
   },
   "outputs": [
    {
     "name": "stdout",
     "output_type": "stream",
     "text": [
      "\u001b[1m\u001b[35m--- Running analysis [ir_graph_build_pass]\u001b[0m\n",
      "\u001b[1m\u001b[35m--- Running analysis [ir_graph_clean_pass]\u001b[0m\n",
      "\u001b[1m\u001b[35m--- Running analysis [ir_analysis_pass]\u001b[0m\n",
      "\u001b[32m--- Running IR pass [simplify_with_basic_ops_pass]\u001b[0m\n",
      "\u001b[32m--- Running IR pass [layer_norm_fuse_pass]\u001b[0m\n",
      "\u001b[37m---    Fused 0 subgraphs into layer_norm op.\u001b[0m\n",
      "\u001b[32m--- Running IR pass [attention_lstm_fuse_pass]\u001b[0m\n",
      "\u001b[32m--- Running IR pass [seqconv_eltadd_relu_fuse_pass]\u001b[0m\n",
      "\u001b[32m--- Running IR pass [seqpool_cvm_concat_fuse_pass]\u001b[0m\n",
      "\u001b[32m--- Running IR pass [mul_lstm_fuse_pass]\u001b[0m\n",
      "\u001b[32m--- Running IR pass [fc_gru_fuse_pass]\u001b[0m\n",
      "\u001b[37m---    fused 0 pairs of fc gru patterns\u001b[0m\n",
      "\u001b[32m--- Running IR pass [mul_gru_fuse_pass]\u001b[0m\n",
      "\u001b[32m--- Running IR pass [seq_concat_fc_fuse_pass]\u001b[0m\n",
      "\u001b[32m--- Running IR pass [squeeze2_matmul_fuse_pass]\u001b[0m\n",
      "\u001b[32m--- Running IR pass [reshape2_matmul_fuse_pass]\u001b[0m\n",
      "W0128 13:55:30.149415   353 op_compat_sensible_pass.cc:219]  Check the Attr(transpose_Y) of Op(matmul) in pass(reshape2_matmul_fuse_pass) failed!\n",
      "W0128 13:55:30.149453   353 map_matmul_to_mul_pass.cc:668] Reshape2MatmulFusePass in op compat failed.\n",
      "\u001b[32m--- Running IR pass [flatten2_matmul_fuse_pass]\u001b[0m\n",
      "\u001b[32m--- Running IR pass [map_matmul_v2_to_mul_pass]\u001b[0m\n",
      "\u001b[32m--- Running IR pass [map_matmul_v2_to_matmul_pass]\u001b[0m\n",
      "\u001b[32m--- Running IR pass [map_matmul_to_mul_pass]\u001b[0m\n",
      "I0128 13:55:30.153200   353 fuse_pass_base.cc:57] ---  detected 1 subgraphs\n",
      "\u001b[32m--- Running IR pass [fc_fuse_pass]\u001b[0m\n",
      "I0128 13:55:30.154841   353 fuse_pass_base.cc:57] ---  detected 1 subgraphs\n",
      "\u001b[32m--- Running IR pass [repeated_fc_relu_fuse_pass]\u001b[0m\n",
      "\u001b[32m--- Running IR pass [squared_mat_sub_fuse_pass]\u001b[0m\n",
      "\u001b[32m--- Running IR pass [conv_bn_fuse_pass]\u001b[0m\n",
      "I0128 13:55:30.227941   353 fuse_pass_base.cc:57] ---  detected 53 subgraphs\n",
      "\u001b[32m--- Running IR pass [conv_eltwiseadd_bn_fuse_pass]\u001b[0m\n",
      "\u001b[32m--- Running IR pass [conv_transpose_bn_fuse_pass]\u001b[0m\n",
      "\u001b[32m--- Running IR pass [conv_transpose_eltwiseadd_bn_fuse_pass]\u001b[0m\n",
      "\u001b[32m--- Running IR pass [is_test_pass]\u001b[0m\n",
      "\u001b[32m--- Running IR pass [runtime_context_cache_pass]\u001b[0m\n",
      "\u001b[1m\u001b[35m--- Running analysis [ir_params_sync_among_devices_pass]\u001b[0m\n",
      "\u001b[1m\u001b[35m--- Running analysis [adjust_cudnn_workspace_size_pass]\u001b[0m\n",
      "\u001b[1m\u001b[35m--- Running analysis [inference_op_replace_pass]\u001b[0m\n",
      "\u001b[1m\u001b[35m--- Running analysis [ir_graph_to_program_pass]\u001b[0m\n",
      "I0128 13:55:30.295951   353 analysis_predictor.cc:714] ======= optimize end =======\n",
      "I0128 13:55:30.301827   353 naive_executor.cc:98] ---  skip [feed], feed -> inputs\n",
      "I0128 13:55:30.303901   353 naive_executor.cc:98] ---  skip [save_infer_model/scale_0.tmp_1], fetch -> fetch\n",
      "Output data size is 2000\n",
      "Output data shape is (2, 1000)\n"
     ]
    }
   ],
   "source": [
    "# 执行预测程序，参数输入为下载的 ResNet50 模型\n",
    "!python python_demo.py --model_file ./resnet50/inference.pdmodel --params_file ./resnet50/inference.pdiparams --batch_size 2"
   ]
  },
  {
   "cell_type": "markdown",
   "metadata": {
    "collapsed": false
   },
   "source": [
    "## 3. 使用Paddle-TensorRT库预测（GPU加速）\n",
    "参考文档：https://paddleinference.paddlepaddle.org.cn/optimize/paddle_trt.html\n",
    "使用API `config.enable_tensorrt_engine` GPU加速，代码存储在 `python_demo_trt.py` 中。"
   ]
  },
  {
   "cell_type": "code",
   "execution_count": 9,
   "metadata": {
    "collapsed": false
   },
   "outputs": [
    {
     "name": "stdout",
     "output_type": "stream",
     "text": [
      "E0128 14:15:42.031020  2374 analysis_config.cc:91] Please compile with gpu to EnableGpu()\n",
      "E0128 14:15:42.031106  2374 analysis_config.cc:382] To use TensorRT engine, please compile inference lib with GPU first.\n",
      "\u001b[1m\u001b[35m--- Running analysis [ir_graph_build_pass]\u001b[0m\n",
      "\u001b[1m\u001b[35m--- Running analysis [ir_graph_clean_pass]\u001b[0m\n",
      "\u001b[1m\u001b[35m--- Running analysis [ir_analysis_pass]\u001b[0m\n",
      "\u001b[32m--- Running IR pass [simplify_with_basic_ops_pass]\u001b[0m\n",
      "\u001b[32m--- Running IR pass [layer_norm_fuse_pass]\u001b[0m\n",
      "\u001b[37m---    Fused 0 subgraphs into layer_norm op.\u001b[0m\n",
      "\u001b[32m--- Running IR pass [attention_lstm_fuse_pass]\u001b[0m\n",
      "\u001b[32m--- Running IR pass [seqconv_eltadd_relu_fuse_pass]\u001b[0m\n",
      "\u001b[32m--- Running IR pass [seqpool_cvm_concat_fuse_pass]\u001b[0m\n",
      "\u001b[32m--- Running IR pass [mul_lstm_fuse_pass]\u001b[0m\n",
      "\u001b[32m--- Running IR pass [fc_gru_fuse_pass]\u001b[0m\n",
      "\u001b[37m---    fused 0 pairs of fc gru patterns\u001b[0m\n",
      "\u001b[32m--- Running IR pass [mul_gru_fuse_pass]\u001b[0m\n",
      "\u001b[32m--- Running IR pass [seq_concat_fc_fuse_pass]\u001b[0m\n",
      "\u001b[32m--- Running IR pass [squeeze2_matmul_fuse_pass]\u001b[0m\n",
      "\u001b[32m--- Running IR pass [reshape2_matmul_fuse_pass]\u001b[0m\n",
      "W0128 14:15:42.216403  2374 op_compat_sensible_pass.cc:219]  Check the Attr(transpose_Y) of Op(matmul) in pass(reshape2_matmul_fuse_pass) failed!\n",
      "W0128 14:15:42.216449  2374 map_matmul_to_mul_pass.cc:668] Reshape2MatmulFusePass in op compat failed.\n",
      "\u001b[32m--- Running IR pass [flatten2_matmul_fuse_pass]\u001b[0m\n",
      "\u001b[32m--- Running IR pass [map_matmul_v2_to_mul_pass]\u001b[0m\n",
      "\u001b[32m--- Running IR pass [map_matmul_v2_to_matmul_pass]\u001b[0m\n",
      "\u001b[32m--- Running IR pass [map_matmul_to_mul_pass]\u001b[0m\n",
      "I0128 14:15:42.220222  2374 fuse_pass_base.cc:57] ---  detected 1 subgraphs\n",
      "\u001b[32m--- Running IR pass [fc_fuse_pass]\u001b[0m\n",
      "I0128 14:15:42.221937  2374 fuse_pass_base.cc:57] ---  detected 1 subgraphs\n",
      "\u001b[32m--- Running IR pass [repeated_fc_relu_fuse_pass]\u001b[0m\n",
      "\u001b[32m--- Running IR pass [squared_mat_sub_fuse_pass]\u001b[0m\n",
      "\u001b[32m--- Running IR pass [conv_bn_fuse_pass]\u001b[0m\n",
      "I0128 14:15:42.299842  2374 fuse_pass_base.cc:57] ---  detected 53 subgraphs\n",
      "\u001b[32m--- Running IR pass [conv_eltwiseadd_bn_fuse_pass]\u001b[0m\n",
      "\u001b[32m--- Running IR pass [conv_transpose_bn_fuse_pass]\u001b[0m\n",
      "\u001b[32m--- Running IR pass [conv_transpose_eltwiseadd_bn_fuse_pass]\u001b[0m\n",
      "\u001b[32m--- Running IR pass [is_test_pass]\u001b[0m\n",
      "\u001b[32m--- Running IR pass [runtime_context_cache_pass]\u001b[0m\n",
      "\u001b[1m\u001b[35m--- Running analysis [ir_params_sync_among_devices_pass]\u001b[0m\n",
      "\u001b[1m\u001b[35m--- Running analysis [adjust_cudnn_workspace_size_pass]\u001b[0m\n",
      "\u001b[1m\u001b[35m--- Running analysis [inference_op_replace_pass]\u001b[0m\n",
      "\u001b[1m\u001b[35m--- Running analysis [memory_optimize_pass]\u001b[0m\n",
      "I0128 14:15:42.330088  2374 memory_optimize_pass.cc:216] Cluster name : conv2d_57.tmp_0  size: 3211264\n",
      "I0128 14:15:42.330130  2374 memory_optimize_pass.cc:216] Cluster name : inputs  size: 602112\n",
      "I0128 14:15:42.330133  2374 memory_optimize_pass.cc:216] Cluster name : elementwise_add_0  size: 3211264\n",
      "I0128 14:15:42.330137  2374 memory_optimize_pass.cc:216] Cluster name : batch_norm_3.tmp_2  size: 3211264\n",
      "I0128 14:15:42.330148  2374 memory_optimize_pass.cc:216] Cluster name : batch_norm_4.tmp_2  size: 3211264\n",
      "\u001b[1m\u001b[35m--- Running analysis [ir_graph_to_program_pass]\u001b[0m\n",
      "I0128 14:15:42.402294  2374 analysis_predictor.cc:714] ======= optimize end =======\n",
      "I0128 14:15:42.407832  2374 naive_executor.cc:98] ---  skip [feed], feed -> inputs\n",
      "I0128 14:15:42.410224  2374 naive_executor.cc:98] ---  skip [save_infer_model/scale_0.tmp_1], fetch -> fetch\n",
      "Output data size is 2000\n",
      "Output data shape is (2, 1000)\n"
     ]
    }
   ],
   "source": [
    "# 执行trt预测程序，参数输入为下载的 ResNet50 模型\n",
    "!python python_demo_trt.py --model_file ./resnet50/inference.pdmodel --params_file ./resnet50/inference.pdiparams --batch_size 2"
   ]
  },
  {
   "cell_type": "markdown",
   "metadata": {
    "collapsed": false
   },
   "source": [
    "## 4. 使用体验反馈\n",
    "\n",
    "文档足够清晰简单\n",
    "\n",
    "这里的提示我不确定什么意思，是我的trt没跑起来吗？\n",
    "![](https://ai-studio-static-online.cdn.bcebos.com/f07fbabfc9eb4b1989db36b6c49dfda2212ad38b00f2417cae71f4ab9cfd0bee)\n",
    "但是运行时间要比第2节快一些，而且我确实是用了GPU在跑的。"
   ]
  }
 ],
 "metadata": {
  "kernelspec": {
   "display_name": "Python 3",
   "language": "python",
   "name": "py35-paddle1.2.0"
  },
  "language_info": {
   "codemirror_mode": {
    "name": "ipython",
    "version": 3
   },
   "file_extension": ".py",
   "mimetype": "text/x-python",
   "name": "python",
   "nbconvert_exporter": "python",
   "pygments_lexer": "ipython3",
   "version": "3.7.4"
  }
 },
 "nbformat": 4,
 "nbformat_minor": 1
}
